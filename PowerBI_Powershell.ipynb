{
    "metadata": {
        "kernelspec": {
            "name": "powershell",
            "display_name": "PowerShell",
            "language": "powershell"
        },
        "language_info": {
            "name": "powershell",
            "codemirror_mode": "shell",
            "mimetype": "text/x-sh",
            "file_extension": ".ps1"
        }
    },
    "nbformat_minor": 2,
    "nbformat": 4,
    "cells": [
        {
            "cell_type": "markdown",
            "source": [
                "**Additional Resources - Power BI Commands.**\n",
                "\n",
                "[https://learn.microsoft.com/en-us/powershell/power-bi/overview?view=powerbi-ps](https://learn.microsoft.com/en-us/powershell/power-bi/overview?view=powerbi-ps)"
            ],
            "metadata": {
                "azdata_cell_guid": "a703db26-444a-4dec-98b4-7e0e71d9bada"
            },
            "attachments": {}
        },
        {
            "cell_type": "markdown",
            "source": [
                "**Installing and checking prerequisite**"
            ],
            "metadata": {
                "azdata_cell_guid": "1077ebc7-feee-4c1c-be99-de6a1690757b"
            },
            "attachments": {}
        },
        {
            "cell_type": "code",
            "source": [
                "# What version of PowerShell is install 5.1 or greater\r\n",
                "$PSVersionTable"
            ],
            "metadata": {
                "azdata_cell_guid": "603f0600-ba87-46bf-ad4a-5bd398d4131e",
                "language": "powershell",
                "tags": [
                    "hide_input"
                ]
            },
            "outputs": [],
            "execution_count": null
        },
        {
            "cell_type": "code",
            "source": [
                "# Install Nuget Packages - Admin rights required.\r\n",
                "Install-PackageProvider -Name NuGet -Force"
            ],
            "metadata": {
                "azdata_cell_guid": "0ab7c56b-f39a-4077-8275-de38f8933ab2",
                "language": "powershell",
                "tags": [
                    "hide_input"
                ]
            },
            "outputs": [],
            "execution_count": null
        },
        {
            "cell_type": "code",
            "source": [
                "# Install Power BI Commands - Admin rights required\r\n",
                "Install-Module -Name MicrosoftPowerBIMgmt -Force"
            ],
            "metadata": {
                "azdata_cell_guid": "869a4348-bcb8-49ed-8f7a-1420e3171777",
                "language": "powershell",
                "tags": [
                    "hide_input"
                ]
            },
            "outputs": [],
            "execution_count": null
        },
        {
            "cell_type": "code",
            "source": [
                "# Verify Power BI Commands are installed. \r\n",
                "# Get-Command -Module MicrosoftPowerBIMgmt\r\n",
                "(Get-Command Get-PowerBIWorkspace).dll\r\n",
                "Get-Command | Where-Object { $_.Source -match 'MicrosoftPowerBIMgmt.Workspaces'}"
            ],
            "metadata": {
                "azdata_cell_guid": "99039eaa-c8d6-4b8a-b6aa-5bb72c5c91d4",
                "language": "powershell",
                "tags": [
                    "hide_input"
                ]
            },
            "outputs": [],
            "execution_count": null
        },
        {
            "cell_type": "markdown",
            "source": [
                "**Login to Power BI Service**"
            ],
            "metadata": {
                "azdata_cell_guid": "cb8c0247-bcb3-46b2-8b36-981f1c7aabe2"
            },
            "attachments": {}
        },
        {
            "cell_type": "code",
            "source": [
                "# Saved Power BI Login\r\n",
                "$authUrl = 'https://login.microsoftonline.com/98--------------43a5ccb4/oauth2/token';\r\n",
                "$clientId=\"682-----------------8a243ec3\"\r\n",
                "$clientSecret = \"hHX-------------9WI20oyI\""
            ],
            "metadata": {
                "language": "powershell",
                "azdata_cell_guid": "2e179b0d-564d-4f72-a47e-7a67d97af7a1",
                "tags": []
            },
            "outputs": [],
            "execution_count": null
        },
        {
            "cell_type": "code",
            "source": [
                "# Manual Login to Power BI - Use Email & AD Password\r\n",
                "#Connect-PowerBIServiceAccount -Credential (Get-Credential)\r\n",
                "Login-PowerBI"
            ],
            "metadata": {
                "azdata_cell_guid": "f09df0ed-1abb-4279-bfad-f47ca29a7130",
                "language": "powershell"
            },
            "outputs": [],
            "execution_count": null
        },
        {
            "cell_type": "code",
            "source": [
                "# Manually Sign out of Power BI\r\n",
                "Disconnect-PowerBIServiceAccount"
            ],
            "metadata": {
                "azdata_cell_guid": "8e8f4d9f-57dd-4505-b1f1-652d074c3f91",
                "language": "powershell"
            },
            "outputs": [],
            "execution_count": null
        },
        {
            "cell_type": "markdown",
            "source": [
                "**Workspaces**"
            ],
            "metadata": {
                "azdata_cell_guid": "25529d27-0569-420f-a457-39a02dab1060"
            },
            "attachments": {}
        },
        {
            "cell_type": "code",
            "source": [
                "# Show All Active Workspaces on PowerBI\r\n",
                "$workspaces = Get-PowerBIWorkspace -Scope Organization -Include All -All | Where-Object { $_.State -match 'Active' } | Select-Object Id, Name, Type\r\n",
                "$workspaces"
            ],
            "metadata": {
                "azdata_cell_guid": "f4a0e3fc-8c01-4471-9148-bf9e203969e7",
                "language": "powershell",
                "tags": []
            },
            "outputs": [],
            "execution_count": null
        },
        {
            "cell_type": "code",
            "source": [
                "# Delete Workspace by Name\r\n",
                "$SearchName = \"Workspace Name\"\r\n",
                " (Get-PowerBIWorkspace -Name $SearchName) | foreach {\r\n",
                "         $Id = $_.Id\r\n",
                "         $Url = \"groups/$Id\"\r\n",
                "         Invoke-PowerBIRestMethod -Url $Url -Method Delete }"
            ],
            "metadata": {
                "language": "powershell",
                "azdata_cell_guid": "a2824f42-e560-44b1-bbde-fa28f56d716e",
                "tags": []
            },
            "outputs": [],
            "execution_count": null
        },
        {
            "cell_type": "code",
            "source": [
                "# Find Deleted Workspaces by Name\r\n",
                "$SearchName = \"Workspace Name\"\r\n",
                "$workspaces2 = Get-PowerBIWorkspace -Scope Organization -Include All -All | Where-Object { $_.State -match 'Deleted' -and $_.Name -eq $SearchName }\r\n",
                "$workspaces2"
            ],
            "metadata": {
                "language": "powershell",
                "azdata_cell_guid": "a6eca68f-e840-4079-9f01-993f2472a074",
                "tags": []
            },
            "outputs": [
                {
                    "name": "stdout",
                    "text": "",
                    "output_type": "stream"
                }
            ],
            "execution_count": 24
        },
        {
            "cell_type": "code",
            "source": [
                "# Restore Workspace by Workspace Id\r\n",
                "$workspaceid = \"20e6b0e4-e237-462f-8b25-caec664550da\"\r\n",
                "$workspaceRestoreName = \"Workspace Name restored\"\r\n",
                "$assignOwner = \"someone@xyz.com\"\r\n",
                "Restore-PowerBIWorkspace -Id $workspaceid -RestoredName $workspaceRestoreName  -AdminEmailAddress $assignOwner"
            ],
            "metadata": {
                "azdata_cell_guid": "2d470e08-b876-471c-8bde-3707a150faea",
                "language": "powershell"
            },
            "outputs": [],
            "execution_count": null
        },
        {
            "cell_type": "markdown",
            "source": [
                "**Power BI Reports**"
            ],
            "metadata": {
                "azdata_cell_guid": "0f0fd935-7a57-4ea0-a4f7-10e97e61b48b"
            },
            "attachments": {}
        },
        {
            "cell_type": "code",
            "source": [
                "# Download PBXI files \r\n",
                "$reportid = \"6112d4f0-a0b1-4a42-a1dd-59e920df95b8\"\r\n",
                "$saveto = \"C:\\source\\\"\r\n",
                "$filename = \"powerbi.pbxi\"\r\n",
                "$url = \"https://api.powerbi.com/v1.0/myorg/reports/\" + $reportid + \"/Export\"\r\n",
                "$download = $saveto+$filename\r\n",
                "Invoke-WebRequest $url -OutFile $download"
            ],
            "metadata": {
                "azdata_cell_guid": "868ae2f7-e192-4e78-bfea-d149c2c05750",
                "language": "powershell",
                "tags": []
            },
            "outputs": [],
            "execution_count": null
        },
        {
            "cell_type": "code",
            "source": [
                "#Log in to Power BI Service\r\n",
                "Login–PowerBI  –Environment Public \t\r\n",
                "\r\n",
                "#First, Collect all (or one) of the workspaces in a parameter called PBIWorkspace\r\n",
                "$PBIWorkspace = Get-PowerBIWorkspace \t\t\t\t\t\t\t# Collect all workspaces you have access to\r\n",
                "#$PBIWorkspace = Get-PowerBIWorkspace -Name 'My Workspace Name' \t# Use the -Name parameter to limit to one workspace\r\n",
                "\r\n",
                "#Now collect todays date\r\n",
                "$TodaysDate = Get-Date –Format \"yyyyMMdd\" \r\n",
                "\r\n",
                "#Almost finished: Build the outputpath. This Outputpath creates a news map, based on todays date\r\n",
                "$OutPutPath = \"C:\\Source\\\" + $TodaysDate \r\n",
                "\r\n",
                "#Now loop through the workspaces, hence the ForEach\r\n",
                "ForEach($Workspace in $PBIWorkspace)\r\n",
                "{\r\n",
                "\t#For all workspaces there is a new Folder destination: Outputpath + Workspacename\r\n",
                "\t$Folder = $OutPutPath + \"\\\" + $Workspace.name \r\n",
                "\t#If the folder doens't exists, it will be created.\r\n",
                "\tIf(!(Test-Path $Folder))\r\n",
                "\t{\r\n",
                "\t\tNew-Item –ItemType Directory –Force –Path $Folder\r\n",
                "\t}\r\n",
                "\t#At this point, there is a folder structure with a folder for all your workspaces \r\n",
                "\t\r\n",
                "\t\r\n",
                "\t#Collect all (or one) of the reports from one or all workspaces \r\n",
                "\t$PBIReports = Get-PowerBIReport –WorkspaceId $Workspace.Id \t\t\t\t\t\t # Collect all reports from the workspace we selected.\r\n",
                "\t#$PBIReports = Get-PowerBIReport -WorkspaceId $Workspace.Id -Name \"My Report Name\" # Use the -Name parameter to limit to one report\r\n",
                "\t\t\r\n",
                "\t\t#Now loop through these reports: \r\n",
                "\t\tForEach($Report in $PBIReports)\r\n",
                "\t\t{\r\n",
                "\t\t\t#Your PowerShell comandline will say Downloading Workspacename Reportname\r\n",
                "\t\t\tWrite-Host \"Downloading \"$Workspace.name\":\" $Report.name \r\n",
                "\t\t\t\r\n",
                "\t\t\t#The final collection including folder structure + file name is created.\r\n",
                "\t\t\t$OutputFile = $OutPutPath + \"\\\" + $Workspace.name + \"\\\" + $Report.name + \".pbix\"\r\n",
                "\t\t\t\r\n",
                "\t\t\t# If the file exists, delete it first; otherwise, the Export-PowerBIReport will fail.\r\n",
                "\t\t\t if (Test-Path $OutputFile)\r\n",
                "\t\t\t\t{\r\n",
                "\t\t\t\t\tRemove-Item $OutputFile\r\n",
                "\t\t\t\t}\r\n",
                "\t\t\t\r\n",
                "\t\t\t#The pbix is now really getting downloaded\r\n",
                "\t\t\tExport-PowerBIReport –WorkspaceId $Workspace.ID –Id $Report.ID –OutFile $OutputFile\r\n",
                "\t\t}\r\n",
                "}"
            ],
            "metadata": {
                "language": "powershell",
                "azdata_cell_guid": "305c999a-aaeb-4fcc-a473-fa4519e99ed8",
                "tags": [
                    "hide_input"
                ]
            },
            "outputs": [],
            "execution_count": null
        },
        {
            "cell_type": "code",
            "source": [
                "Get-PowerBIReport -Scope Organization"
            ],
            "metadata": {
                "language": "powershell",
                "azdata_cell_guid": "94898fca-4fa0-4684-aeab-81e7cd1d1eae"
            },
            "outputs": [],
            "execution_count": null
        },
        {
            "cell_type": "markdown",
            "source": [
                "**Power BI Datasets**"
            ],
            "metadata": {
                "azdata_cell_guid": "da8c29e2-ec91-4b54-a751-15d86fb74fc3"
            },
            "attachments": {}
        },
        {
            "cell_type": "markdown",
            "source": [
                "**Power BI Users**"
            ],
            "metadata": {
                "language": "powershell",
                "azdata_cell_guid": "810619f2-af81-4260-b452-cf4fa68d4670"
            },
            "attachments": {}
        },
        {
            "cell_type": "code",
            "source": [
                "# All Users assigned to Workspaces (Uncomment to Export to CSV File)\r\n",
                "Get-PowerBIWorkspace -Scope Organization -Include All -All  | \r\n",
                "ForEach-Object {\r\n",
                "$Workspace = $_.name\r\n",
                "$WorkspaceId = $_.Id\r\n",
                "foreach ($User in $_.Users) {\r\n",
                "[PSCustomObject]@{\r\n",
                "Workspace = $Workspace\r\n",
                "WorkspaceId = $WorkspaceId\r\n",
                "User = $User.accessright    \r\n",
                "Identifier   =$user.Identifier}}} #| Export-CSV \"C:\\source\\WorkspaceDetails.csv\" -NoTypeInformation"
            ],
            "metadata": {
                "azdata_cell_guid": "394dc84f-721b-4e8a-a33d-c956a92bb8db",
                "language": "powershell",
                "tags": []
            },
            "outputs": [],
            "execution_count": null
        }
    ]
}