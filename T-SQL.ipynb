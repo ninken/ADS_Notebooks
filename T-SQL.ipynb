{
    "metadata": {
        "kernelspec": {
            "name": "SQL",
            "display_name": "SQL",
            "language": "sql"
        },
        "language_info": {
            "name": "sql",
            "version": ""
        }
    },
    "nbformat_minor": 2,
    "nbformat": 4,
    "cells": [
        {
            "cell_type": "markdown",
            "source": [
                "[]()**MSSQL Server Index** <a id='index'></a>\n",
                "\n",
                " |  |  |  |  |\n",
                " | ------- |-------  |-------  | -------   |\n",
                " |[**Data Types**](#sqltype) |[**T-SQL Select Processing**](#sqlseq)  | [**Convert Time**](#sqltime) |  |\n",
                " |[**Mathematical**](#sqlmath) |[**SQL DDL Command Definition**](#sqlDDL)  |[**Convert DateTime**](#sqldt)  |  |\n",
                " | [**Aggregate Data**](#sqlagg) |[**Database, Tables, Data, Views, Stored Procedures**](#sqlDB)  | [**Format Date**](#sqldtformat) |  |\n",
                " |[**String Functions**](#sqlstring)  |[**Date Functions**](#sqldateFunc)  |[**Format Number**](#sqlintformat)  |  |\n",
                " | [**Comparison Operators**](#sqlcompare) |[**Convert Date**](#sqldate)  |[**TSQL Window Function**](#sqlwindow)  |  |\n",
                ""
            ],
            "metadata": {
                "azdata_cell_guid": "99a14cd1-4c98-4fcf-91be-c5ce7a52de20"
            },
            "attachments": {}
        },
        {
            "cell_type": "code",
            "source": [
                "SET NOCOUNT ON; -- Reduce output messages"
            ],
            "metadata": {
                "azdata_cell_guid": "23edcdde-1ba6-4695-95bc-bb553f6c6f5e",
                "language": "sql",
                "tags": []
            },
            "outputs": [],
            "execution_count": null
        },
        {
            "cell_type": "markdown",
            "source": [
                "[]()**Data Types** - [**Back to Index**](#index)  \n",
                "[https://docs.microsoft.com/en-us/sql/t-sql/data-types/data-types-transact-sql?view=sql-server-ver15](https://docs.microsoft.com/en-us/sql/t-sql/data-types/data-types-transact-sql?view=sql-server-ver15)\n",
                "\n",
                "* * *\n",
                "\n",
                "**Exact numbers:** bigint, numeric, bit, smallint, decimal, smallmoney, int, tinyint, money  \n",
                "**Approximate numbers:** float,real  \n",
                "**Date and time:** date, datetime2,datetimeoffset,smalldatetime,datetime,time  \n",
                "**Character strings:** **char(Max / size)** will contain spaces to the exact size, **text**, **varchar(Max / size)** no space padding  \n",
                "**Unicode strings:** **nchar(Max / size)** will contain spaces to the exact size, **ntext**, **nvarchar(Max / size)** no space padding  \n",
                "**Binary strings:** binary,varbinary,image  \n",
                "**Other data types:** cursor,rowversion,hierarchyid,uniqueidentifier  \n",
                "**sql\\_variant:** xml, Spatial Geometry Types, Spatial Geography Types, table"
            ],
            "metadata": {
                "azdata_cell_guid": "5417e1c8-3bd5-4f1b-beff-19c3b7c7e214"
            },
            "attachments": {}
        },
        {
            "cell_type": "code",
            "source": [
                "-- SQL Data Types\n",
                "select --Exact numbers\n",
                "Convert(bigint, -9223372036854775808) as MinBigInt,\n",
                "Convert(bigint, 9223372036854775807) as MaxBigInt,\n",
                "Convert(int, -2147483648) as MinInt,\n",
                "Convert(int, 2147483647) as MaxInt,\n",
                "Convert(smallint, -32768) as MinSmallInt,\n",
                "Convert(smallint, 32767) as MaxSmallInt,\n",
                "Convert(TinyInt, 0) as MinTinyInt,\n",
                "Convert(TinyInt, 255) as MaxTinyInt,\n",
                "Convert(bit,Null) as NullBit,\n",
                "Convert(bit,0) as MinBit,\n",
                "Convert(bit,1) as MaxBit,\n",
                "Convert(money, -922337203685477.5808) as MinMoney,\n",
                "Convert(money, 922337203685477.5807) as MaxMoney,\n",
                "--Approximate numbers\n",
                "Convert(float, '-1.79E+308') as MinFloat,\n",
                "Convert(float, '1.79E+308') as  MaxFloat,\n",
                "Convert(real, '-3.40E+38') as  MinReal,\n",
                "Convert(real, '3.40E+38') as MaxReal;\n",
                "Select -- Date&Time\n",
                "convert(date,SYSDATETIME()) as [Date],\n",
                "convert(datetime2,SYSDATETIME()) as [Datetime2],\n",
                "convert(datetime2(2),SYSDATETIME()) as [Datetime2Frac], --  (fractional seconds precision up to 7)\n",
                "convert(datetimeoffset(2), '12-31-2050 12:00:00 +01:00') as [Datetimeoffset],  -- Time zone range -14:00 through +14:00 = 24hours\n",
                "convert(smalldatetime,'1900-01-01') as MinSmalldatetime, \n",
                "convert(smalldatetime,'2079-06-06') as MaxSmalldatetime,\n",
                "convert(time,SYSDATETIME()) as [Time],\n",
                "convert(time(2),SYSDATETIME()) as [TimeFrac]; --  (fractional seconds precision up to 7)\n",
                "Select -- Strings\n",
                "Convert(char(30), 'Hello') as [Char], \n",
                "Convert(nchar(30), N'Wörld') as [NChar],\n",
                "Convert(varchar(30), 'Hello') as [varchar],\n",
                "Convert(nvarchar(30), N'Wörld') as [Nvarchar]\n",
                "-- Geography\n",
                "SELECT (geography::STGeomFromText('LINESTRING(-122.360 47.656, -122.343 47.656 )', 4326));  \n",
                "SELECT (geography::STGeomFromText('POLYGON((-122.358 47.653 , -122.348 47.649, -122.348 47.658, -122.358 47.658, -122.358 47.653))', 4326));  "
            ],
            "metadata": {
                "azdata_cell_guid": "2d241337-32dc-42fc-a3f2-87f776b7a460",
                "language": "sql",
                "tags": [
                    "hide_input"
                ]
            },
            "outputs": [],
            "execution_count": null
        },
        {
            "cell_type": "markdown",
            "source": [
                "**Mathematical** - <a id='sqlmath'></a> [**Back to Index**](#index)  <br>\n",
                "https://docs.microsoft.com/en-us/sql/t-sql/functions/mathematical-functions-transact-sql?view=sql-server-ver15<br>\n",
                "\n",
                "| Command | Description                                                                              | Command | Description                                                  |\n",
                "| ------- | ---------------------------------------------------------------------------------------- | ------- | ------------------------------------------------------------ |\n",
                "| **ABS**     | Absolute (positive) value of the specified numeric expression.                           | **LOG**     | Returns the natural logarithm of the specified float         |\n",
                "| **ACOS**    | Arccosine returns the angle, in radians, whose cosine is the specified float expression. | **LOG10**   | Returns the base-10 logarithm of the specified float         |\n",
                "| **ASIN**    | Arcsine returns the angle, in radians, whose sine is the specified float expression.     | **PI**      | Returns the constant value of PI.                            |\n",
                "| **ATAN**    | Arctangent angle, in radians, whose tangent is a specified float expression.             | **POWER**   | Float input to the \"power of\" input                          |\n",
                "| **ATN2**    | Radians, between the positive x-axis and the ray from the origin to the point (y, x)     | **RADIANS** | Radians when a numeric expression, in degrees, is entered    |\n",
                "| **CEILING** | Take a fraction to the next whole number                                                 | **RAND**    | Pseudo-random float value from 0 through 1 with a seed value |\n",
                "| **FLOOR**   | Take a fraction to the lower whole number                                                | **ROUND**   | Numeric value, rounded to the specified length or precision  |\n",
                "| **COS**     | Trigonometric cosine of the specified angle - measured in radians                        | **SIGN**    | Returns the positive (+1), zero (0), or negative (-1) sign   |\n",
                "| **COT**     | Trigonometric cotangent of the specified angle - in radians                              | **SIN**     | Trigonometric sine of the specified angle, in radians        |\n",
                "| **DEGREES** | Convert angle, in degrees, for an angle specified in radians                             | **SQRT**    | Returns the square root of the specified float value         |\n",
                "| **EXP**     | Exponential value of the specified float expression                                      | **SQUARE**  | Returns the square of the specified float value.             |\n",
                "| **+ - * / %**   | Basic Math operators, +Adding, -Subtract, *Multiply, /Division, %Modulus              | **TAN**    | Returns the tangent of the input expression                  |"
            ],
            "metadata": {
                "azdata_cell_guid": "3259380c-b0c0-4d30-87b6-c21a591e0b54"
            }
        },
        {
            "cell_type": "code",
            "source": [
                "--Mathematical Functions\n",
                "SELECT (2+2) as [Adding], (4-2) as [Subtract], (10*10) as [Multiply], (10/2) as [Division], (38%5) as [Modulus]\n",
                "SELECT ABS(-1.0) AS NegNoOne, ABS(-2.0) AS NegNoTwo, ABS(1.0) PosNo; \n",
                "SELECT ACOS(1.0) AS PieStart, ACOS(-0.0) AS PieHalf, ACOS(-1.0) AS PieFull; \n",
                "SELECT ASIN(0.1472738) Angle, ASIN(-1.00) AS MinAngle,ASIN(1.00) AS MaxAngle; \n",
                "SELECT ATAN(45.87) AS atanCalc1, ATAN(-181.01) AS atanCalc2,  ATAN(0) AS atanCalc3,  ATAN(0.1472738) AS atanCalc4,  ATAN(197.1099392) AS atanCalc5;  \n",
                "SELECT 'ATN2(x,y) angle is: ' + CONVERT(VARCHAR, ATN2(35.175643, 129.44)) as [ATN2(x,y)];  \n",
                "SELECT CEILING(123.01) as [123.01], CEILING(-123.01) as [-123.01], CEILING($123.01) as [$123.01];\n",
                "SELECT FLOOR(123.99) as [123.99], FLOOR(-123.99) as [-123.99], FLOOR($123.99) as [$123.99];\n",
                "SELECT COS(14.76) AS cosCalc1, COS(-0.1472738) AS cosCalc2; \n",
                "SELECT 'COT of the angle is: ' + CONVERT(VARCHAR, COT(124.1332)) as [COT];  \n",
                "SELECT 'Degrees PI/2 radians is: ' +  CONVERT(VARCHAR, DEGREES((PI()/2))) as [Pi/2]; \n",
                "SELECT EXP(10) as [Exp(10)];\n",
                "SELECT 'LOG is: ' + CONVERT(VARCHAR, LOG(10)) as [Log(10)];  \n",
                "SELECT 'LOG10 is: ' + CONVERT(VARCHAR,LOG10(145.175643)) as [Log10(145.175643)];  \n",
                "SELECT PI() as [Pi];\n",
                "SELECT POWER(2, 3) AS [2^3], POWER(2.5, 3) AS [2.5^3]; \n",
                "SELECT RADIANS(-181.01) AS [-181.01], RADIANS(-45.01) AS [-45.01];\n",
                "SELECT RAND() AS [RAND], RAND(0.5) AS [RAND(0.5)], RAND(100) AS [RAND(100)];\n",
                "SELECT ROUND(123.4545, 2) AS [Round1], ROUND(123.45, -2) AS [Round2],ROUND(150.75, 0) AS [Round3],ROUND(150.75, 0, 1) AS [Round4]; \n",
                "SELECT SIGN(-125) AS [-125], SIGN(0) AS [0], SIGN(564) AS [564];   \n",
                "SELECT 'SIN angle is: ' + CONVERT(VARCHAR, SIN(45.175643)) AS [SIN];  \n",
                "SELECT SQRT(1.00) [SQRT 1.00], SQRT(10.00) as [SQRT 10.00];\n",
                "SELECT SQUARE(125.22) AS [Cylinder], SQUARE(23.98) AS [Cube];\n",
                "SELECT TAN(.45) as [TAN(.45)];    "
            ],
            "metadata": {
                "azdata_cell_guid": "4184bbea-9876-4488-b2a5-6085cf00de24",
                "language": "sql",
                "tags": [
                    "hide_input"
                ]
            },
            "outputs": [],
            "execution_count": null
        },
        {
            "cell_type": "markdown",
            "source": [
                "**Aggregate Data**   - <a id='sqlagg'></a> [**Back to Index**](#index)<br>\n",
                "[https://docs.microsoft.com/en-us/sql/t-sql/functions/aggregate-functions-transact-sql?view=sql-server-ver15](https://docs.microsoft.com/en-us/sql/t-sql/functions/aggregate-functions-transact-sql?view=sql-server-ver15)<br>\n",
                "\n",
                "| Command                 | Description                                                                   | Command     | Description                                                   |\n",
                "| ----------------------- | ----------------------------------------------------------------------------- | ----------- | ------------------------------------------------------------- |\n",
                "| **APPROX\\_COUNT\\_DISTINCT** | Approximate number of unique non-null values in a group                       | **MAX**         | Returns the maximum value                                     |\n",
                "| **AVG**                     | Average of the values in a group. It ignores null values                      | **MIN**         | Returns the minimum value                                     |\n",
                "| **CHECKSUM\\_AGG**           | Returns the checksum of the values in a group                                 | **STDEV**       | Returns the statistical standard deviation                    |\n",
                "| **COUNT**                   | Number of items found in a group                                              | **STDEVP**      | Returns the statistical standard deviation for the population |\n",
                "| **COUNT\\_BIG**              | Number of items found in a group in BigInt format                             | **STRING\\_AGG** | Concatenates the values of string expressions                 |\n",
                "| **GROUPING**                | Column expression in a GROUP BY list is aggregated or not. GROUPING returns 1 | **SUM**         | Returns the sum of all the values                             |\n",
                "| **GROUPING\\_ID**            | Computes the level of grouping                                                | **VAR**         | Returns the statistical variance of all values                |\n",
                "|                         |                                                                               | **VARP**        | Returns the statistical variance for the population           |\n"
            ],
            "metadata": {
                "azdata_cell_guid": "f23da6f4-d3a7-422d-b1cf-77b23cf08baf"
            }
        },
        {
            "cell_type": "code",
            "source": [
                "-- Aggregate Data functions... \n",
                "-- ##### Adding Test Data\n",
                "IF OBJECT_ID('tempdb..#Order') IS NOT NULL DROP TABLE #Order; \n",
                "Create Table #Order ([RecId] int not null Primary Key IDENTITY, [OrderNo] int, [OrdDate] date, Part varchar(16), [Qty] int, [Price] money, [Total] money, [BigOne] bigint);\n",
                "Insert into #Order([OrderNo], [OrdDate], [Part], [Qty], [Price], [Total], [BigOne]) Values (1000,'1/1/2000','Bike', 10,10,100.00, 214748365);\n",
                "Insert into #Order([OrderNo], [OrdDate], [Part], [Qty], [Price], [Total], [BigOne]) Values (1001,'8/4/2000','Bike', 7,8.02,56.16, 214748365);\n",
                "Insert into #Order([OrderNo], [OrdDate], [Part], [Qty], [Price], [Total], [BigOne]) Values (1002,'2/28/2001','Bike', 5,4,20.00, 214748365);\n",
                "Insert into #Order([OrderNo], [OrdDate], [Part], [Qty], [Price], [Total], [BigOne]) Values (1003,'10/31/2000','Car',15,11.01,165.15, 214748365);\n",
                "-- ##### End Test Data\n",
                "\n",
                "-- Approximate count of unique non-null values in a group.\n",
                "SELECT APPROX_COUNT_DISTINCT([Part]) as Approx_Parts_Count From #Order;\n",
                "\n",
                "-- Grouping\n",
                "Select [Part], Sum([Total]) as [Sum_Total] from #Order Group By [Part]; -- Sum Rows based on Group on Part. \n",
                "Select IsNull([Part],'Grand Total:') as [Part], Grouping([Part]) as 'PartGroupRollup', Sum([Total]) as [Sum_Total] from #Order Group By [Part] with rollup; -- Grouping Rolloup: 0 is Group by line total value, 1 is the grand total value for all rows. \n",
                "\n",
                "-- Averaging value by Group By, Partition By, Order By\n",
                "SELECT  Avg([Total]) as [AggValue], DATEPART(yy,[OrdDate]) as [Year], 'Average Group By - Average' as [Type] From #Order Group by DATEPART(yy,[OrdDate]) Union ALL  \n",
                "SELECT  CONVERT(VARCHAR(20),AVG([Total]) OVER (PARTITION BY DATEPART(yy,[OrdDate])),1) AS [MovingAvg], DATEPART(yy,[OrdDate]), 'Partition By - Moving Avg' as [Type] From #Order UNION  \n",
                "SELECT  CONVERT(VARCHAR(20),AVG([Total]) OVER (Order By DATEPART(yy,[OrdDate])),1) AS [MovingAvg], DATEPART(yy,[OrdDate]), 'Order By - Moving Avg' as [Type] From #Order \n",
                "Order by [Type], [Year]; \n",
                "\n",
                "-- Counting\n",
                "Select Count(*) as [Count_IntRows] from #Order -- Count rows less than or equal to 2,147,483,64\n",
                "Select Count_Big(*) as [Count_BigIntRows] From #Order; -- Count rows greater than 2,147,483,64. \n",
                "Select [Part], Count(*) as [Count_Parts_Ordered] from #Order Group By [Part]; -- Count Rows based on Group\n",
                "\n",
                "-- Min & Max Values\n",
                "Select Min([Total]) as MinOrderTotal from #Order;\n",
                "Select Max([Total]) as MaxOrderTotal from #Order;\n",
                "\n",
                "-- Sum, can add up Tiny, SmallInt, Int, BigInt, Decimal, Money, Numeric, float, real numbers.\n",
                "Select Sum([Total]) as SalesGrandTotal, Sum(BigOne) SumLargeNo from #Order;\n",
                "Select [Part], Sum([Total]) as SalesPartTotal, Sum(BigOne) SumLargeNo from #Order Group by [Part];\n",
                "\n",
                "-- String Agg, Concatenates the values of string expressions and places separator values between them. The separator isn't added at the end of string.\n",
                "SELECT STRING_AGG(CONVERT(NVARCHAR(max), ISNULL([Part],'N/A')), ',') AS csv FROM #Order;\n",
                "\n",
                "-- T-SQL Statistics \n",
                "-- Statistical standard deviation of all values in the specified expression.\n",
                "SELECT STDEV([Total]) AS STDEV_Values FROM #Order;\n",
                "SELECT DATEPART(yy,[OrdDate]) as [Year], DATEPART(QQ,[OrdDate]) AS Quarter, [Total] AS SalesTotal, STDEV([Total]) OVER (ORDER BY  DATEPART(yy,[OrdDate]),DATEPART(QQ,[OrdDate])) AS StdDeviation FROM #Order;\n",
                "-- Statistical standard deviation for the population for all values in the specified expression\n",
                "SELECT STDEVP([Total]) AS STDEVP_Values FROM #Order;\n",
                "SELECT DATEPART(yy,[OrdDate]) as [Year], DATEPART(QQ,[OrdDate]) AS Quarter, [Total] AS SalesTotal, STDEVP([Total]) OVER (ORDER BY  DATEPART(yy,[OrdDate]),DATEPART(QQ,[OrdDate])) AS StdDeviation FROM #Order;\n",
                "-- Statistical variance of all values\n",
                "SELECT Var([Total]) AS STDEV_Values FROM #Order;\n",
                "SELECT DATEPART(yy,[OrdDate]) as [Year], DATEPART(QQ,[OrdDate]) AS Quarter, [Total] AS SalesTotal, VAR([Total]) OVER (ORDER BY  DATEPART(yy,[OrdDate]),DATEPART(QQ,[OrdDate])) AS Variance FROM #Order\n",
                "-- Statistical variance of population for all values.\n",
                "SELECT VarP([Total]) AS STDEV_Values FROM #Order;\n",
                "SELECT DATEPART(yy,[OrdDate]) as [Year], DATEPART(QQ,[OrdDate]) AS Quarter, [Total] AS SalesTotal, VARP([Total]) OVER (ORDER BY  DATEPART(yy,[OrdDate]),DATEPART(QQ,[OrdDate])) AS Variance FROM #Order\n",
                "\n",
                "-- Clean up\n",
                " DROP TABLE #Order;"
            ],
            "metadata": {
                "azdata_cell_guid": "0e4ba18e-ec7f-46b6-9042-19037496cc7b",
                "language": "sql",
                "tags": [
                    "hide_input"
                ]
            },
            "outputs": [],
            "execution_count": null
        },
        {
            "cell_type": "markdown",
            "source": [
                "**String Functions** -  [**Back to Index**](#index) <a id='sqlstring'></a><br>\n",
                "https://docs.microsoft.com/en-us/sql/t-sql/functions/string-functions-transact-sql?view=sql-server-ver15\n",
                "\n",
                "| Command    | Description                                                                        | Command   | Description                                                                        | Command        | Description                                                                                      |\n",
                "| ---------- | ---------------------------------------------------------------------------------- | --------- | ---------------------------------------------------------------------------------- | -------------- | ------------------------------------------------------------------------------------------------ |\n",
                "| **ASCII**      | Returns the ASCII code value                                                       | **LTRIM**     | Trims any spaces from the left side of a string                                    | **SPACE**          | Add number of space in a string.                                                                 |\n",
                "| **CHAR**       | Returns the character by input ASCII code value                                    | **NCHAR**     | Returns the Unicode character with the specified integer code                      | **STR**            | Data converted from numeric data right-justified, with a specified length and decimal precision. |\n",
                "| **CHARINDEX**  | Returns the starting position of string search match.                              | **PATINDEX**  | Returns the starting position of the first occurrence of a pattern in a specified  | **STRING\\_AGG**    | Concatenates the values of string expressions                                                    |\n",
                "| **CONCAT**     | Join two or more strings together including null values.                           | **QUOTENAME** | Returns a Unicode string with the delimiters added to make the input               | **STRING\\_ESCAPE** | Escapes special characters in texts and returns text with escaped characters                     |\n",
                "| **CONCAT\\_WS** | Join two or more strings together including null values  with delimiter specified. | **REPLACE**   | Replaces all occurrences of a specified string value with another string value     | **STRING\\_SPLIT**  | A table-valued function that splits a string into rows of substrings                             |\n",
                "| **DIFFERENCE** | Int value measuring the difference between the SOUNDEX() of different character    | **REPLICATE** | Repeats a string value a specified number of times.                                | **STUFF**          | The STUFF function inserts a string into another string.                                         |\n",
                "| **FORMAT**     | Format Numbers and Date to specified format                                        | **REVERSE**   | Returns the reverse order of a string value                                        | **SUBSTRING**      | Returns part of a character, binary, text, or image expression                                   |\n",
                "| **LEFT**       | Returns First part of string specified by number of character.                     | **RIGHT**     | Returns Last part of string specified by number of characters.                     | **TRANSLATE**      | Like Replace however can replace multiple replacements                                           |\n",
                "| **LEN**        | Return the length/size of a string.                                                | **RTRIM**     | Trims any spaces from the right side of a string                                   | **TRIM**           | Trims spaces from the left and right side of a string                                            |\n",
                "| **LOWER**      | Return the entire string into lower case letters                                   | **SOUNDEX**   | Returns a four-character (SOUNDEX) code to evaluate the similarity of two strings. | **UNICODE**        | Returns the integer value, as defined by the Unicode standard                                    |\n",
                "|            |                                                                                    |           |                                                                                    | **UPPER**          | Returns the string in all upper case letters                                                     |"
            ],
            "metadata": {
                "azdata_cell_guid": "44cc3315-9bc4-4ef7-9ed4-3642b36e6d42"
            }
        },
        {
            "cell_type": "code",
            "source": [
                "-- String Functions\n",
                "SELECT ASCII('A') AS A, ASCII('B') AS B, ASCII('a') AS a, ASCII('b') AS b, ASCII(1) AS [1], ASCII(2) AS [2];  \n",
                "SELECT CHAR(65) AS [65], CHAR(66) AS [66], CHAR(97) AS [97], CHAR(98) AS [98],  CHAR(49) AS [49], CHAR(50) AS [50];  \n",
                "SELECT CHARINDEX ( 'Test',  'This is a Test') AS [Test_CHARINDEX_StartsAtPos];\n",
                "SELECT CONCAT( 'FirstName', ' ', NULL,' ','LastName' ) AS [FML_FirstMiddelLast_CONCAT];\n",
                "SELECT 'FirstName' +' ' + NULL +' '+ 'LastName' [FML_UsingAdding];\n",
                "SELECT 'FirstName' +' ' + ISNULL(NULL,'') +' '+ 'LastName' [FML_UsingAddingCorrected_ISNull];\n",
                "SELECT CONCAT_WS(',','1 Microsoft Way', NULL, NULL, 'Redmond', 'WA', 98052) AS [Address_CONCAT_WS];\n",
                "SELECT SOUNDEX('Green') AS [Green], SOUNDEX('Greene') AS [Greene], DIFFERENCE('Green','Greene') AS [DifferenceScore]; --No Difference \n",
                "SELECT SOUNDEX('Blotchet-Halls') AS [Blotchet-Halls], SOUNDEX('Greene') AS [Greene], DIFFERENCE('Blotchet-Halls', 'Greene') AS [DifferenceScore]; -- Not the same. \n",
                "SELECT FORMAT(1234567,'###-####') as [Format];\n",
                "SELECT LEFT('abcdefg',3) as [Left];\n",
                "SELECT LEN( 'Test of 22 characters ') AS [LEN] , DATALENGTH( 'Test of 22 characters ') AS [DATALENGTH];  \n",
                "SELECT LOWER('HELLO WORLD') as [Lowercase];\n",
                "SELECT LTRIM('   HELLO WORLD   ') as [LeftTrim];\n",
                "SELECT NCHAR(0xD84C) + NCHAR(0xDD7F) AS [NCHAR];\n",
                "SELECT PATINDEX('%ter%', 'interesting data') AS  [Position];  \n",
                "SELECT PATINDEX('%[^ 0-9A-Za-z]%', 'Please ensure the door is locked!') AS [FindTheNonAlpha];\n",
                "SELECT QUOTENAME('Hello World', '()') AS [AddQuoteChar];\n",
                "SELECT REPLACE('I am Superman', 'man', 'woman' ) AS [Replace];  \n",
                "SELECT REPLICATE('B', 4) + 'AD' AS [ReplicateB]\n",
                "SELECT REVERSE('abcdefghijklmnopqrstuvwxyz') AS [Reverse],REVERSE('zyxwvutsrqponmlkjihgfedcba') as [UndoReverse];\n",
                "SELECT RIGHT('abcdefg',3) as [Right];\n",
                "SELECT RTRIM('   HELLO WORLD   ') as [RTrim];\n",
                "SELECT SOUNDEX ('Smith') AS [Smith], SOUNDEX ('Smythe') AS [Smythe];  \n",
                "SELECT 'FirstName' + SPACE(10) +  'LastName' AS [AddSpaces];\n",
                "SELECT STR(123.45, 8, 4) as [StrRightJust];\n",
                "SELECT STRING_ESCAPE('\\   /  \\\\    \"     ', 'json') AS escapedText;\n",
                "SELECT value FROM STRING_SPLIT('clothing,road,,touring,bike', ',') WHERE RTRIM(value) <> '';\n",
                "SELECT STUFF('ABCDEFG',3,3,'XXX') AS [StuffInjectText];\n",
                "SELECT SUBSTRING('abcdef', 2, 3) AS [SubString];  \n",
                "SELECT TRANSLATE('abcdef','abc','bcd') AS Translated, '  ' as [vs.],  REPLACE(REPLACE(REPLACE('abcdef','a','b'),'b','c'),'c','d') AS Replaced;\n",
                "SELECT TRIM('   HELLO WORLD   ') as [Trim];\n",
                "SELECT UNICODE(N'Åkergatan 24') as [UCharInt], NCHAR(UNICODE(N'Åkergatan 24')) [UChar]; \n",
                "SELECT UPPER('hello world') as [Uppercase];"
            ],
            "metadata": {
                "azdata_cell_guid": "b6d13da3-5500-4445-8835-54bba65e9a11",
                "language": "sql",
                "tags": [
                    "hide_input"
                ]
            },
            "outputs": [],
            "execution_count": null
        },
        {
            "cell_type": "markdown",
            "source": [
                "**Comparison Operators** -  [**Back to Index**](#index) <a id='sqlcompare'></a><br>\n",
                "https://docs.microsoft.com/en-us/sql/t-sql/language-elements/comparison-operators-transact-sql?view=sql-server-ver15<br>\n",
                "\n",
                "| Operator                       | Meaning                  | Operator              | Meaning                             |\n",
                "| ------------------------------ | ------------------------ | --------------------- | ----------------------------------- |\n",
                "| **\\=**                   | Equal to                 | **<>**      | Not equal to                        |\n",
                "| **\\>**               | Greater than             | **!=**    | Not equal to (not ISO standard)     |\n",
                "| **<**                | Less than                | **!<**    | Not less than (not ISO standard)    |\n",
                "| **\\>=**  | Greater than or equal to | **!>** | Not greater than (not ISO standard) |\n",
                "| **<=**      | Less than or equal to    |                       |                                     |"
            ],
            "metadata": {
                "azdata_cell_guid": "b4aa79b6-9fb2-401a-b678-c3370b279b6a"
            }
        },
        {
            "cell_type": "markdown",
            "source": [
                "**SQL Server Sequence of Logical Processing on Select**   -  [**Back to Index**](#index) <a id='sqlseq'></a><br>\n",
                "https://docs.microsoft.com/en-US/sql/t-sql/queries/select-transact-sql?view=sql-server-ver15<br>\n",
                "--------\n",
                "***Note:** The actual physical execution of the statement is determined by the query processor and the order may vary from this list.<br>\n",
                "While normally true, uncommon cases where the sequence may differ.\n",
                "\n",
                "| Seq | Command | Seq | Command |\n",
                "| --- | --- | --- | --- |\n",
                "| 1. | **FROM** | 7. | **HAVING** |\n",
                "| 2. | **ON** | 8. | **SELECT** |\n",
                "| 3. | **JOIN** | 9. | **DISTINCT** |\n",
                "| 4. | **WHERE** | 10. | **UNION** |\n",
                "| 5. | **GROUP BY** | 11. | **ORDER BY** |\n",
                "| 6. | **WITH CUBE or WITH ROLLUP** | 12. | **TOP, LIMIT, OFFSET** |"
            ],
            "metadata": {
                "azdata_cell_guid": "fc901d9c-eaf1-4486-892e-d3e903378b13"
            },
            "attachments": {}
        },
        {
            "cell_type": "markdown",
            "source": [
                "**SQL DDL Command Definition** - [**Back to Index**](#index)[]()  <a id='sqlDDL'></a><br>\n",
                "* * *\n",
                "![DDL.jpg](data:image/jpeg;base64,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)  \n",
                "**DDL** - Data Definition Language for defining Data structure.   Create/Drop Table, Add Columns.  \n",
                "**DML** - Data Manipulation Language for Insert, Delete, Update, Select  \n",
                "**DCL** - Data Control Language -  Grant, Revoke, Permissions, Roles  \n",
                "**TCL** - Transactional Control Language -  Commit, Rollback, savepoint  \n",
                "**DQL** - Data Query Language - Select \\* from     \\*Optional term some people may use"
            ],
            "metadata": {
                "azdata_cell_guid": "3ec33943-312f-4578-b122-ec186aa21880"
            },
            "attachments": {}
        },
        {
            "cell_type": "markdown",
            "source": [
                "**Creating Simple: Database, Tables, Data, Views, Stored Procedures (with Simple T-SQL Examples)** -  [**Back to Index**](#index) <a id='sqlDB'></a><br>\n",
                "\n",
                "--------\n",
                "\n",
                "[https://www.quackit.com/sql\\_server/sql\\_server\\_2017/tutorial/create\\_a\\_database\\_in\\_sql\\_server\\_2017.cfm](https://www.quackit.com/sql_server/sql_server_2017/tutorial/create_a_database_in_sql_server_2017.cfm)<br>\n",
                "![Music.jpg](attachment:Music.jpg)"
            ],
            "metadata": {
                "azdata_cell_guid": "16c9ea7e-954a-4ba9-abb4-d9da3e73894b",
                "language": "sql"
            },
            "attachments": {
                "Music.jpg": {
                    "image/jpeg": "[encoded data removed]"
                }
            }
        },
        {
            "cell_type": "code",
            "source": [
                "-- Creating Database, Tables, Views, and Stored Procedures  (Requirements must be a database administrator)\n",
                "DROP DATABASE IF EXISTS [Music];\n",
                "CREATE DATABASE [Music]; -- Using SQL Server Defauls file/log location and size.\n",
                "GO -- End of Batch Command \n",
                "-- Custom Database File/Log\n",
                "-- CREATE DATABASE Music  \n",
                "-- ON ( NAME = Music_dat,  FILENAME = 'D:\\mssql\\data\\musicdat.mdf', SIZE = 10, MAXSIZE = UNLIMITED, FILEGROWTH = 5 )  \n",
                "-- LOG ON ( NAME = Music_log,  FILENAME = 'D:\\mssql\\data\\musiclog.ldf', SIZE = 5000KB, MAXSIZE = 25, FILEGROWTH = 5% );\n",
                "USE [Music]; -- Switch to new Music Database\n",
                "\n",
                "CREATE TABLE [Artists] (\n",
                "  [ArtistId] int IDENTITY(1,1) NOT NULL PRIMARY KEY,   -- Auto Increment number starting with 1, and increasing id by 1, primary key insure unique identifier.\n",
                "  [ArtistName] nvarchar(255) NOT NULL,\n",
                "  [ActiveFrom] date\n",
                ");\n",
                "GO -- End of Batch Command \n",
                "\n",
                "CREATE TABLE [Genres] (\n",
                "  [GenreId] int IDENTITY(1,1) NOT NULL PRIMARY KEY,  -- Auto Increment number, primary key insure unique identifier.\n",
                "  [Genre] nvarchar(50) NOT NULL\n",
                ");\n",
                "\n",
                "CREATE TABLE [Albums] (\n",
                "  [AlbumId] int IDENTITY(1,1) NOT NULL PRIMARY KEY, -- Auto Increment number, primary key insure unique identifier.\n",
                "  [AlbumName] nvarchar(255) NOT NULL,\n",
                "  [ReleaseDate] date NOT NULL,\n",
                "  [ArtistId] int NOT NULL,\n",
                "  [GenreId] int NOT NULL\n",
                "\n",
                "  CONSTRAINT FK_Albums_Artists FOREIGN KEY ([ArtistId])  -- Create a relationship between Artists and Albumns, an Artists can create multiple Albumns\n",
                "    REFERENCES [dbo].[Artists] ([ArtistId])     \n",
                "    ON DELETE NO ACTION  -- ON DELETE CASCADE  \n",
                "    ON UPDATE NO ACTION   -- ON UPDATE CASADE   \n",
                ");\n",
                "GO\n",
                "\n",
                "CREATE VIEW [RockAlbums] AS  -- Storing a Query as a view for reuse and faster performance. \n",
                "SELECT [AlbumName], [ArtistName], [ReleaseDate]\n",
                "FROM [Albums]\n",
                "\tINNER JOIN [Artists]\n",
                "\tON [Albums].[ArtistId] = [Artists].[ArtistId] \n",
                "    INNER JOIN [Genres]\n",
                "    ON [Albums].[GenreId] = [Genres].[GenreId]\n",
                "WHERE [Genres].[Genre] = 'Rock';\n",
                "GO\n",
                "\n",
                "CREATE PROCEDURE [spAlbumsFromArtist] @ArtistName varchar(255) AS   -- Stored Procedures can contain custom business logic, added security, and parameters input & outputs. \n",
                "\tSELECT  al.[AlbumName], al.[ReleaseDate], g.[Genre]\n",
                "\tFROM [Albums] AS al\n",
                "\t\tINNER JOIN [Artists] AS ar\n",
                "\t\tON al.[ArtistId] = ar.[ArtistId]\n",
                "\t\tINNER JOIN [Genres] AS g\n",
                "\t\tON g.[GenreId] = al.[GenreId] \n",
                "\tWHERE ar.[ArtistName] = @ArtistName;\n",
                "GO"
            ],
            "metadata": {
                "azdata_cell_guid": "a37b8ad7-5006-45a4-8021-04f0384502b4",
                "language": "sql",
                "tags": [
                    "hide_input"
                ]
            },
            "outputs": [],
            "execution_count": null
        },
        {
            "cell_type": "code",
            "source": [
                "-- Inserting Test Data\n",
                "Use [Music];\n",
                "-- Prevent sql notebook user from inserting twice...\n",
                "TRUNCATE TABLE [Genres]; -- TRUNCATE TABLE locks the table and removes all data from it, faster than delete command, It also resets the table auto-increment value back to the starting value\n",
                "ALTER TABLE [Albums] NOCHECK CONSTRAINT FK_Albums_Artists; -- Disable the FK constraints\n",
                "TRUNCATE TABLE [Albums];\n",
                "DELETE  FROM [Artists]; -- FK can't be truncated\n",
                "DBCC CHECKIDENT ('[Artists]', RESEED, 1); -- Reseeding the auto-increment value\n",
                "\n",
                "-- Inserting Test Data\n",
                "INSERT INTO [Artists] ([ArtistName], [ActiveFrom])\n",
                "VALUES ('Iron Maiden','1975-12-25'),('AC/DC','1973-01-11'), ('Allan Holdsworth','1969-01-01'),('Buddy Rich','1919-01-01'),('Devin Townsend','1993-01-01'),('Jim Reeves','1948-01-01'),('Tom Jones','1963-01-01'),('Maroon 5','1994-01-01'),\n",
                "  ('The Script','2001-01-01'),('Lit','1988-06-26'),('Black Sabbath','1968-01-01'),('Michael Learns to Rock','1988-03-15'),('Carabao','1981-01-01'),('Karnivool','1997-01-01'),('Birds of Tokyo','2004-01-01'), ('Bodyjar','1990-01-01'), ('Trent Reznor','1965-05-17');\n",
                "\n",
                "INSERT INTO [Genres] ([Genre]) \n",
                "VALUES ('Rock'), ('Jazz'), ('Country'),('Pop'),('Blues'),('Hip Hop'),('Rap'),('Punk'),('Industrial');\n",
                "\n",
                "BEGIN TRANSACTION ;  -- Using Transactions Insert or (BEGIN TRAN)\n",
                "INSERT INTO [Albums] ([AlbumName], [ReleaseDate], [ArtistId], [GenreId])\n",
                "VALUES ('Powerslave', '1984-09-03', 1, 1), ('Powerage', '1978-05-05', 2, 1),  ('Singing Down the Lane', '1956-01-01', 6, 3), ('Ziltoid the Omniscient', '2007-05-21', 5, 1), ('Casualties of Cool', '2014-05-14', 5, 1),\n",
                "  ('Epicloud', '2012-09-18', 5, 1), ('Somewhere in Time', '1986-09-29', 1, 1),\t('Piece of Mind', '1983-05-16', 1, 1),\t('Killers', '1981-02-02', 1, 1),('No Prayer for the Dying', '1990-10-01', 1, 1),('No Sound Without Silence', '2014-09-12', 9, 4),\t\n",
                "  ('Big Swing Face', '1967-06-01', 4, 2),('Blue Night', '2000-11-01', 12, 4),('Eternity', '2008-10-27', 12, 4),\t('Scandinavia', '2012-06-11', 12, 4),\t('Long Lost Suitcase', '2015-10-09', 7, 4),\t('Praise and Blame', '2010-06-26', 7, 4),\t\n",
                "  ('Along Came Jones', '1965-05-21', 7, 4),\t('All Night Wrong', '2002-05-05', 3, 2),('The Sixteen Men of Tain', '2000-03-20', 3, 2),('1Pretty Hate Machine', '1991-01-01', 18, 9);\n",
                "COMMIT TRANSACTION;  \n",
                "\n",
                "DECLARE @TransactionName VARCHAR(4) = 'Undo'; -- Declare a transaction name\n",
                "BEGIN TRANSACTION @TransactionName;  -- Using Transactions with name\n",
                "INSERT INTO [Genres] ([Genre]) VALUES ('Pokemon');\n",
                "ROLLBACK TRANSACTION @TransactionName;  -- This never happened, you can't capture them all!\n",
                "\n",
                "ALTER TABLE [Albums]  CHECK CONSTRAINT FK_Albums_Artists;-- Re-enable FK constraints"
            ],
            "metadata": {
                "azdata_cell_guid": "b33590b1-ff12-4550-8d87-9ebc982beccf",
                "language": "sql",
                "tags": [
                    "hide_input"
                ]
            },
            "outputs": [],
            "execution_count": null
        },
        {
            "cell_type": "code",
            "source": [
                "-- Selecting & Query Data, Views and Stored Procedures\n",
                "Use [Music];\n",
                "\n",
                "SELECT * FROM Artists;  -- Select \"*\" aka ALL is not recommended in production or for query performance. \n",
                "SELECT [AlbumId], [AlbumName], [ArtistId] FROM [Albums];  -- Recommended Select statement after knowing the column names that you need to use.\n",
                "\n",
                "--'Modify Select output '\n",
                "SELECT [AlbumName], YEAR([ReleaseDate]) AS [Year] FROM [Albums]; -- Convert Date into Year\n",
                "SELECT [AlbumName] AS [RecordName] FROM [Albums]; -- \"AS\" is optional when Renaming columns\n",
                "\n",
                "--'Adding Criteria using Where'\n",
                "SELECT [AlbumId], [AlbumName], [ArtistId] FROM [Albums] WHERE [ArtistId] = 1; \n",
                "SELECT [AlbumId], [AlbumName], [ArtistId] FROM [Albums] WHERE [ArtistId] in (1,3,7);   -- Where in List\n",
                "SELECT [AlbumId], [AlbumName], [ArtistId] FROM [Albums] WHERE [ArtistId] not in (1,3,7);  -- Where not in List\n",
                "SELECT [AlbumId], [AlbumName], [ArtistId] FROM [Albums] WHERE [ReleaseDate] < '1980-01-01';\n",
                "SELECT [AlbumId], [AlbumName], [ArtistId] FROM [Albums] WHERE [ReleaseDate] between '1950-01-01' and '1980-01-01';  -- Date Range using between\n",
                "SELECT [AlbumId], [AlbumName], [ArtistId] FROM [Albums] WHERE [ReleaseDate] >= '1950-01-01' and '1980-01-01' >= [ReleaseDate];  -- Date Range using operators\n",
                "SELECT [AlbumId], [AlbumName], [ArtistId] FROM [Albums] WHERE [AlbumName] = 'Big Swing Face';\n",
                "SELECT [AlbumId], [AlbumName], [ArtistId] FROM [Albums] WHERE Upper([AlbumName]) like '%THE%';\n",
                "SELECT [AlbumId], [AlbumName], [ArtistId] FROM [Albums] WHERE Upper([AlbumName]) not like '%THE%';\n",
                "SELECT [AlbumId], [AlbumName], [ArtistId] FROM [Albums] WHERE [AlbumName] LIKE 'P[^p]%';\n",
                "SELECT [AlbumId], [AlbumName], [ArtistId] FROM [Albums] WHERE [AlbumName] LIKE '[0-9]%';\n",
                "SELECT [AlbumId], [AlbumName], [ArtistId] FROM [Albums] WHERE [AlbumName] LIKE '[A-z]%';\n",
                "--'Selecting a View'\n",
                "SELECT  [AlbumName], [ArtistName], [ReleaseDate] FROM RockAlbums WHERE ReleaseDate > '1985-01-01';\n",
                "--'Counting '\n",
                "SELECT [AlbumName], Count(*) as [NumberOfAlbums] FROM [Albums] GROUP BY [AlbumName];\n",
                "SELECT [AlbumName] FROM [Albums] GROUP BY [AlbumName] Having Count(*) = 1 ; -- Only one Albums in dataset\n",
                "--'Sorting '\n",
                "SELECT [AlbumName] FROM [Albums] ORDER BY [AlbumName] ASC\n",
                "SELECT [AlbumName] FROM [Albums] ORDER BY [AlbumName] DESC\n",
                "\n",
                "--'Joining Data (tables)'\n",
                "SELECT [AlbumId], [AlbumName], [ArtistName]\n",
                "FROM [Albums] \n",
                "\tINNER JOIN [Artists]\n",
                "\tON [Albums].[ArtistId] = [Artists].[ArtistId]\n",
                "\n",
                "--'Alias Tables during a join'\n",
                "SELECT al.[AlbumId], al.[AlbumName], ar.[ArtistName] \n",
                "FROM [Albums] AS al                                 -- \"AS\" is optional during Aliasing\n",
                "\tINNER JOIN [Artists] AS ar\n",
                "\tON al.[ArtistId] = ar.[ArtistId]\n",
                "WHERE al.[ReleaseDate] < '1980-01-01'\n",
                "ORDER BY ar.[ArtistName] ASC;\n",
                "\n",
                "--'Running Stored Procedures'\n",
                "EXECUTE spAlbumsFromArtist @ArtistName = \"Devin Townsend\"; -- You can substitute EXECUTE as EXEC"
            ],
            "metadata": {
                "azdata_cell_guid": "a478c4f5-bdcb-4435-b270-d3307ab5dd3c",
                "language": "sql",
                "tags": [
                    "hide_input"
                ]
            },
            "outputs": [],
            "execution_count": null
        },
        {
            "cell_type": "code",
            "source": [
                "-- Alter Tables, View, Stored Procedures\n",
                "Use [Music];\n",
                "-- Add Columns\n",
                "ALTER TABLE [Artists] \n",
                "ADD \n",
                "[FirstReleaseYear] int,\n",
                "[RemoveMe] varchar(10);  \n",
                "\n",
                "-- Convert Column\n",
                "ALTER TABLE [Artists] \n",
                "ALTER COLUMN [RemoveMe] int;\n",
                "\n",
                "-- Remove Column\n",
                "ALTER TABLE [Artists] \n",
                "DROP COLUMN [RemoveMe];\n",
                "GO\n",
                "\n",
                "-- Alter View\n",
                "ALTER VIEW [RockAlbums] AS  -- Storing a Query as a view for reuse and faster performance. \n",
                "SELECT [AlbumName], [ArtistName], Year([ReleaseDate]) AS ReleaseYear\n",
                "FROM [Albums]\n",
                "\tINNER JOIN [Artists]\n",
                "\tON [Albums].[ArtistId] = [Artists].[ArtistId] \n",
                "    INNER JOIN [Genres]\n",
                "    ON [Albums].[GenreId] = [Genres].[GenreId]\n",
                "WHERE [Genres].[Genre] = 'Rock';\n",
                "GO\n",
                "-- Alter a Stored procedure \n",
                "ALTER PROCEDURE [spAlbumsFromArtist] @ArtistName varchar(255) AS   -- Stored Procedures can contain custom business logic, added security, and parameters input & outputs. \n",
                "\tSELECT  al.[AlbumName], Year(al.[ReleaseDate]) as ReleaseYear, g.[Genre]\n",
                "\tFROM [Albums] AS al\n",
                "\t\tINNER JOIN [Artists] AS ar\n",
                "\t\tON al.[ArtistId] = ar.[ArtistId]\n",
                "\t\tINNER JOIN [Genres] AS g\n",
                "\t\tON g.[GenreId] = al.[GenreId] \n",
                "\tWHERE ar.[ArtistName] = @ArtistName;\n",
                "GO"
            ],
            "metadata": {
                "azdata_cell_guid": "ee998290-096b-4f3b-bd47-01cfc73dc16c",
                "language": "sql",
                "tags": [
                    "hide_input"
                ]
            },
            "outputs": [],
            "execution_count": null
        },
        {
            "cell_type": "code",
            "source": [
                "-- Update Records\n",
                "Use [Music];\n",
                "\n",
                "-- Change a record value\n",
                "Update [Albums] \n",
                "Set [AlbumName] = 'Pretty Hate Machine'\n",
                "Where [AlbumName] = '1Pretty Hate Machine';\n",
                "\n",
                "-- Update multiple records from a Join using a subquery\n",
                "Update [Artists]\n",
                "Set [FirstReleaseYear] = al.RelYear\n",
                "--  SELECT  ar.ArtistId, ar.ArtistName, ar.ActiveFrom, ar.FirstReleaseYear, al.RelYear\n",
                "FROM [Artists] as ar\n",
                "    INNER JOIN (\n",
                "\t            SELECT ArtistId, Min(Year(ReleaseDate)) AS RelYear \n",
                "\t\t\t\tFROM [Albums]\n",
                "\t\t\t\tGROUP BY [ArtistId]\n",
                "\t\t\t\t) as al\n",
                "    ON ar.[ArtistId] = al.[ArtistId];"
            ],
            "metadata": {
                "azdata_cell_guid": "335dab33-4b9a-4275-a7ea-b8b26c0053e0",
                "language": "sql",
                "tags": [
                    "hide_input"
                ]
            },
            "outputs": [],
            "execution_count": null
        },
        {
            "cell_type": "code",
            "source": [
                "-- Delete Records\r\n",
                "Use [Music];\r\n",
                "\r\n",
                "-- Delete multiple records from a Join using a subquery\r\n",
                "DELETE [Albums]\r\n",
                "FROM [Albums]\r\n",
                "\tINNER JOIN [Artists]\r\n",
                "\tON [Albums].[ArtistId] = [Artists].[ArtistId] \r\n",
                "    INNER JOIN [Genres]\r\n",
                "    ON [Albums].[GenreId] = [Genres].[GenreId]\r\n",
                "WHERE [Genres].[Genre] = 'Rock';\r\n",
                "\r\n",
                "-- Delete all values in all tables\r\n",
                "DELETE [Albums]\r\n",
                "DELETE [Artists]\r\n",
                "DELETE [Genres]"
            ],
            "metadata": {
                "language": "sql",
                "azdata_cell_guid": "35b7675f-9ccf-42c5-90fb-0fa244a8c3ab",
                "tags": [
                    "hide_input"
                ]
            },
            "outputs": [],
            "execution_count": null
        },
        {
            "cell_type": "code",
            "source": [
                "-- Drop Objects and Database.\r\n",
                "DROP PROCEDURE IF EXISTS [spAlbumsFromArtist];\r\n",
                "DROP VIEW IF EXISTS [RockAlbums];\r\n",
                "\r\n",
                "-- Drop Tables\r\n",
                "DROP TABLE IF EXISTS [Albums];\r\n",
                "DROP TABLE IF EXISTS [Artists];\r\n",
                "DROP TABLE IF EXISTS [Genres];\r\n",
                "\r\n",
                "-- Drop Database\r\n",
                "DROP DATABASE IF EXISTS [Music];\r\n",
                "\r\n",
                "--Error If database is in currently in use...\r\n",
                "-- Take database offline\r\n",
                "ALTER DATABASE [Music]\r\n",
                "SET offline with rollback immediate\r\n",
                "\r\n",
                "-- Take database online\r\n",
                "ALTER DATABASE [Music]\r\n",
                "SET online\r\n",
                "\r\n",
                "DROP DATABASE IF EXISTS [Music];"
            ],
            "metadata": {
                "language": "sql",
                "azdata_cell_guid": "f2e86c9a-0366-4b98-969c-ad019f39c2dd",
                "tags": [
                    "hide_input"
                ]
            },
            "outputs": [],
            "execution_count": null
        },
        {
            "cell_type": "markdown",
            "source": [
                " **Date Functions**   -  [**Back to Index**](#index)<a id='sqldateFunc'></a><br>\r\n",
                "\r\n",
                " --------\r\n",
                "\r\n",
                " | Syntax | Description | Syntax | Description |\r\n",
                " | --- | --- | --- | --- |\r\n",
                " | DATENAME ( datepart , date ) | Returns the name of the date | DATEDIFF ( datepart , startdate , enddate ) | Return the number difference between dates |\r\n",
                " | DATEPART ( datepart , date ) | Return the number of the part of the date | DATEADD (datepart , number , date ) | Returns a date with add value |\r\n",
                " | DAY ( date ) | Return the day number | EOMONTH ( start_date [, month_to_add ] ) | Returns the last day of the month containing the specified date |\r\n",
                " | MONTH ( date ) | Returns the Month Number | SWITCHOFFSET (DATETIMEOFFSET , time_zone) | SWITCHOFFSET changes the time zone offset of a DATETIMEOFFSET  |\r\n",
                " | YEAR ( date ) | Return the 4 digit year number | ISDATE ( expression ) | Retuns a bit value if input is a vaild date |\r\n",
                "\r\n",
                " | date | Abbreviations | date | Abbreviations |\r\n",
                " | --- | --- | --- | --- |\r\n",
                " | year | yy, yyyy | minute | mi, n |\r\n",
                " | quarter | qq, q | second | ss, s |\r\n",
                " | month | mm, m | millisecond | ms |\r\n",
                " | dayofyear | dy, y | microsecond | mcs |\r\n",
                " | day | dd, d | nanosecond | ns |\r\n",
                " | week | wk, ww | TZoffset | tz |\r\n",
                " | weekday | dw, w | ISO_WEEK | ISOWK, ISOWW |\r\n",
                " | hour | hh |  |  |\r\n",
                ""
            ],
            "metadata": {
                "azdata_cell_guid": "f0bd0ba6-d372-403d-8a72-f0140c448b6a"
            },
            "attachments": {}
        },
        {
            "cell_type": "code",
            "source": [
                "-- Date Functions\r\n",
                "--DateName a date\r\n",
                "SELECT DATENAME(year, GETDATE()) AS [Year] ,DATENAME(qq, GETDATE())  AS [Quarter] ,DATENAME(month, GETDATE()) AS [Month],DATENAME(day, GETDATE()) AS [DAY] ,DATENAME(dayofyear, GETDATE())  AS [DAYOFYEAR],\r\n",
                "DATENAME(week, GETDATE()) AS [WEEKNO], DATENAME(iso_week, GETDATE()) AS [ISOWEEKNO], DATENAME(weekday, GETDATE()) AS [WEEKDAY];\r\n",
                "-- DatePart a Date\r\n",
                "SELECT DATEPART(year, GETDATE()) AS [Year] ,DATEPART(qq, GETDATE())  AS [Quarter] ,DATEPART(month, GETDATE())  AS [Month] ,DATEPART(day, GETDATE()) AS [DAY] ,DATEPART(dayofyear, GETDATE())  AS [DAYOFYEAR],\r\n",
                "DATEPART(week, GETDATE()) AS [WEEKNO],DATEPART(iso_week, GETDATE()) AS [ISOWEEKNO] ,DATEPART(weekday, GETDATE()) AS [WEEKDAY];\r\n",
                "--DateDiff Date\r\n",
                "SELECT DATEDIFF(year,'2019-12-31 23:59:59.9999999', GETDATE()) AS [YearDiff], DATEDIFF(quarter,'2019-12-31 23:59:59.9999999', GETDATE()) AS [QuarterDiff],DATEDIFF(month,'2019-12-31 23:59:59.9999999', GETDATE()) AS [MonthDiff],\r\n",
                "DATEDIFF(week,'2019-12-31 23:59:59.9999999', GETDATE()) AS [WeekDiff], DATEDIFF(day,'2019-12-31 23:59:59.9999999', GETDATE()) AS [DayDiff];\r\n",
                "-- DateDiff time\r\n",
                "SELECT DATEDIFF(hour,'2022-01-31 22:59:59.9999999', '2022-02-1 22:59:59.9999999') AS [HourDiff], DATEDIFF(minute,'2022-01-31 22:59:59.9999999', '2022-02-1 22:59:59.9999999') AS [MinuteDiff],\r\n",
                "DATEDIFF(second,'2022-01-31 22:59:59.9999999', '2022-02-1 22:59:59.9999999') AS [SecondDiff];\r\n",
                "\r\n",
                "SELECT DAY(GETDATE()) AS [Day], MONTH(GETDATE()) AS [Month], YEAR(GETDATE()) AS [Year];\r\n",
                "SELECT DATEADD(year, 1, '2019-08-31') AS [AddYear], DATEADD(month, 1, '2019-08-31') AS [AddMonth],DATEADD(day, 1, '2019-08-31') AS [AddDay];\r\n",
                "SELECT DATEADD(year, -1, '2019-08-31') AS [MinusYear], DATEADD(month, -1, '2019-08-31') AS [MinusMonth],DATEADD(day, -1, '2019-08-31') AS [MinusDay];\r\n",
                "SELECT EOMONTH (GETDATE()) AS [ThisMonth],EOMONTH (GETDATE(), 1 ) AS [NextMonth],EOMONTH ( GETDATE(), -1 ) AS [LastMonth];  \r\n",
                "SELECT SWITCHOFFSET (CONVERT(datetimeoffset, GETDATE()), '-04:00') AS [SwitchTimeZone];\r\n",
                "SELECT ISDATE('2/28/2022') AS [VaildDate], ISDATE('2/29/2022') AS [NotVaildDate1], ISDATE('HelloWorld') AS [NotVaildDate2];"
            ],
            "metadata": {
                "azdata_cell_guid": "edd53b11-96f1-4569-b502-8c86f9dec70c",
                "language": "sql",
                "tags": [
                    "hide_input"
                ]
            },
            "outputs": [],
            "execution_count": null
        },
        {
            "cell_type": "markdown",
            "source": [
                "**Convert Date**   -  [**Back to Index**](#index)<a id='sqldate'></a><br>\n",
                "**Syntax:** CONVERT(data_type [ ( length ) ] , expression [ , style ] ) <br>\n",
                "https://docs.microsoft.com/en-us/sql/t-sql/functions/cast-and-convert-transact-sql?view=sql-server-ver15"
            ],
            "metadata": {
                "azdata_cell_guid": "049fc0db-327b-41da-ba07-f87a9802ee33"
            }
        },
        {
            "cell_type": "code",
            "source": [
                "-- Convert date\n",
                "select convert(varchar, getdate(), 1) as [DateType], 'mm/dd/yy' as [DateOutputFormat] UNION \n",
                "select convert(varchar, getdate(), 2) as [DateType], 'yy.mm.dd' as [DateOutputFormat] UNION \n",
                "select convert(varchar, getdate(), 3) as [DateType], 'dd/mm/yy' as [DateOutputFormat] UNION \n",
                "select convert(varchar, getdate(), 4) as [DateType], 'dd.mm.yy' as [DateOutputFormat] UNION \n",
                "select convert(varchar, getdate(), 5) as [DateType], 'dd-mm-yy' as [DateOutputFormat] UNION \n",
                "select convert(varchar, getdate(), 6) as [DateType], 'dd-Mon-yy' as [DateOutputFormat] UNION \n",
                "select convert(varchar, getdate(), 7) as [DateType], 'Mon dd, yy' as [DateOutputFormat] UNION \n",
                "select convert(varchar, getdate(), 10) as [DateType], 'mm-dd-yy' as [DateOutputFormat] UNION \n",
                "select convert(varchar, getdate(), 11) as [DateType], 'yy/mm/dd' as [DateOutputFormat] UNION \n",
                "select convert(varchar, getdate(), 12) as [DateType], 'yymmdd' as [DateOutputFormat] UNION \n",
                "select convert(varchar, getdate(), 23) as [DateType], 'yyyy-mm-dd' as [DateOutputFormat] UNION  -- ISO 8601\n",
                "select convert(varchar, getdate(), 101) as [DateType], 'mm/dd/yyyy' as [DateOutputFormat] UNION  -- U.S.\n",
                "select convert(varchar, getdate(), 102) as [DateType], 'yyyy.mm.dd' as [DateOutputFormat] UNION  -- ANSI\n",
                "select convert(varchar, getdate(), 103) as [DateType], 'dd/mm/yyyy' as [DateOutputFormat] UNION  -- British/French\n",
                "select convert(varchar, getdate(), 104) as [DateType], 'dd.mm.yyyy' as [DateOutputFormat] UNION  -- German\n",
                "select convert(varchar, getdate(), 105) as [DateType], 'dd-mm-yyyy' as [DateOutputFormat] UNION  -- Italian\n",
                "select convert(varchar, getdate(), 106) as [DateType], 'dd Mon yyyy' as [DateOutputFormat] UNION \n",
                "select convert(varchar, getdate(), 107) as [DateType], 'Mon dd, yyyy' as [DateOutputFormat] UNION \n",
                "select convert(varchar, getdate(), 110) as [DateType], 'mm-dd-yyyy' as [DateOutputFormat] UNION  -- USA\n",
                "select convert(varchar, getdate(), 111) as [DateType], 'yyyy/mm/dd' as [DateOutputFormat] UNION  -- JAPAN\n",
                "select convert(varchar, getdate(), 112) as [DateType], 'yyyymmdd' as [DateOutputFormat]; -- ISO"
            ],
            "metadata": {
                "azdata_cell_guid": "0cebd788-93f5-4736-aa5f-69b547c5ddf0",
                "language": "sql",
                "tags": []
            },
            "outputs": [],
            "execution_count": null
        },
        {
            "cell_type": "markdown",
            "source": [
                "**Convert Time**   -  <a id='sqltime'></a> [**Back to Index**](#index)<br>\n",
                "**Syntax:** CONVERT(data_type [ ( length ) ] , expression [ , style ] ) <br>\n",
                "https://docs.microsoft.com/en-us/sql/t-sql/functions/cast-and-convert-transact-sql?view=sql-server-ver15\n",
                "[]()\n"
            ],
            "metadata": {
                "azdata_cell_guid": "28534ef4-e8d7-4286-a27c-07d6b158f781"
            }
        },
        {
            "cell_type": "code",
            "source": [
                "-- Convert Time\n",
                "select convert(varchar, getdate(), 14) as [TimeType], 'hh:mm:ss:nnn' as [TimeOutputFormat]  UNION ALL \n",
                "select convert(varchar, getdate(), 24) as [TimeType], 'hh:mm:ss' as [TimeOutputFormat]  UNION ALL \n",
                "select convert(varchar, getdate(), 108) as [TimeType], 'hh:mm:ss' as [TimeOutputFormat]  UNION ALL \n",
                "select convert(varchar, getdate(), 114) as [TimeType], 'hh:mm:ss:nnn' as [TimeOutputFormat]; "
            ],
            "metadata": {
                "azdata_cell_guid": "64ac356f-5283-4ffc-a040-5eea97f664be",
                "language": "sql",
                "tags": [
                    "hide_input"
                ]
            },
            "outputs": [],
            "execution_count": null
        },
        {
            "cell_type": "markdown",
            "source": [
                "**Convert Date&Time**   -  <a id='sqldt'></a> [**Back to Index**](#index)<br>\n",
                "**Syntax:** CONVERT(data_type [ ( length ) ] , expression [ , style ] ) <br>\n",
                "https://docs.microsoft.com/en-us/sql/t-sql/functions/cast-and-convert-transact-sql?view=sql-server-ver15"
            ],
            "metadata": {
                "azdata_cell_guid": "166d180b-655c-4e6f-b107-3bc2ef9187ab"
            }
        },
        {
            "cell_type": "code",
            "source": [
                "-- Convert Date&Time\n",
                "select convert(varchar, getdate(), 0) as [DateTimeType], 'Mon dd yyyy hh:mm AM/PM' as [DTOutputFormat] UNION  --Default\n",
                "select convert(varchar, getdate(), 9) as [DateTimeType], 'Mon dd yyyy hh:mm:ss:nnn AM/PM' as [DTOutputFormat] UNION ALL \n",
                "select convert(varchar, getdate(), 13) as [DateTimeType], 'dd Mon yyyy hh:mm:ss:nnn AM/PM' as [DTOutputFormat] UNION ALL \n",
                "select convert(varchar, getdate(), 20) as [DateTimeType], 'yyyy-mm-dd hh:mm:ss' as [DTOutputFormat] UNION ALL\n",
                "select convert(varchar, getdate(), 21) as [DateTimeType], 'yyyy-mm-dd hh:mm:ss:nnn' as [DTOutputFormat] UNION ALL\n",
                "select convert(varchar, getdate(), 22) as [DateTimeType], 'mm/dd/yy hh:mm:ss AM/PM' as [DTOutputFormat] UNION ALL --U.S\n",
                "select convert(varchar, getdate(), 25) as [DateTimeType], 'yyyy-mm-dd hh:mm:ss:nnn' as [DTOutputFormat] UNION ALL\n",
                "select convert(varchar, getdate(), 100) as [DateTimeType], 'Mon dd yyyy hh:mm AM/PM' as [DTOutputFormat] UNION ALL \n",
                "select convert(varchar, getdate(), 109) as [DateTimeType], 'Mon dd yyyy hh:mm:ss:nnn AM/PM' as [DTOutputFormat] UNION ALL\n",
                "select convert(varchar, getdate(), 113) as [DateTimeType], 'dd Mon yyyy hh:mm:ss:nnn' as [DTOutputFormat]UNION ALL\n",
                "select convert(varchar, getdate(), 120) as [DateTimeType], 'yyyy-mm-dd hh:mm:ss' as [DTOutputFormat] UNION ALL\n",
                "select convert(varchar, getdate(), 121) as [DateTimeType], 'yyyy-mm-dd hh:mm:ss:nnn' as [DTOutputFormat] UNION ALL \n",
                "select convert(varchar, getdate(), 126) as [DateTimeType], 'yyyy-mm-dd T hh:mm:ss:nnn' as [DTOutputFormat] UNION ALL \n",
                "select convert(varchar, getdate(), 127) as [DateTimeType], 'yyyy-mm-dd T hh:mm:ss:nnn' as [DTOutputFormat]; "
            ],
            "metadata": {
                "azdata_cell_guid": "e77ed132-c6b4-4f42-9863-62664bf22084",
                "language": "sql",
                "tags": []
            },
            "outputs": [],
            "execution_count": null
        },
        {
            "cell_type": "markdown",
            "source": [
                "**Format Date&Time**   -  [**Back to Index**](#index) <a id='sqldtformat'></a><br>\n",
                "**Syntax:** FORMAT( value, format [, culture ] ) <br>\n",
                "**Example Cultures:** en-US,en-gb,de-de,zh-cn<br>\n",
                "**Date Types:** date, time, datetime, smalldatetime, datetime2, datetimeoffset<br>\n",
                "https://docs.microsoft.com/en-us/sql/t-sql/functions/format-transact-sql?view=sql-server-ver15\n",
                "\n",
                "| pattern | description | pattern | description |\n",
                "| --- | --- | --- | --- |\n",
                "| dd | day in range 01-31 | HH | hour in range 00-23 |\n",
                "| MM | month in range 01-12 | mm | minutes in range 00-59 |\n",
                "| yy | 2-digit year | ss | seconds in range 00-59 |\n",
                "| yyyy | 4-digit year | |  |"
            ],
            "metadata": {
                "azdata_cell_guid": "3d81c722-f61c-4057-b1a9-30dcbb45c560"
            }
        },
        {
            "cell_type": "code",
            "source": [
                "-- Format Date&Time\n",
                "SELECT FORMAT(getdate(), 'yyyy-MM-dd' ) AS format_date Union -- Custom date\n",
                "SELECT FORMAT(getdate(), 'd', 'en-US') format_date Union  -- Convert to US Region format\n",
                "SELECT FORMAT(getdate(), 'D', 'en-US') format_date Union -- Long US Region Date format\n",
                "SELECT FORMAT(getdate(), 'ddd, MMM d, yyyy', 'en-US') format_date; --Custom US Region Date \n",
                "SELECT FORMAT(SYSDATETIME(), N'hh:mm tt') as format_time Union ALL--  Time Format\n",
                "SELECT FORMAT(SYSDATETIME(), N'HH:mm') as format_time; --  24hr Time Format"
            ],
            "metadata": {
                "azdata_cell_guid": "4759faa7-068c-4736-80d9-874c46e6f515",
                "language": "sql",
                "tags": [
                    "hide_input"
                ]
            },
            "outputs": [],
            "execution_count": null
        },
        {
            "cell_type": "markdown",
            "source": [
                "**Format number** - [**Back to Index**](#index)[]()  <a id='sqlintformat'></a><br> \n",
                "**Syntax:** FORMAT( value, format \\[, culture \\] )  \n",
                "**Example Cultures:** en-US,en-gb,de-de,zh-cn  \n",
                "**Numeric types:** bigint, int, smallint, tinyint, decimal, numeric, float, real, smallmoney, money  \n",
                "[https://docs.microsoft.com/en-us/sql/t-sql/functions/format-transact-sql?view=sql-server-ver15](https://docs.microsoft.com/en-us/sql/t-sql/functions/format-transact-sql?view=sql-server-ver15)  \n",
                "\n",
                "| pattern | description | pattern | description |\n",
                "| --- | --- | --- | --- |\n",
                "| N | Number Format | C | Currency Format |\n",
                "| G | General Format | # | custom format |"
            ],
            "metadata": {
                "azdata_cell_guid": "c15feed3-811a-49f8-a893-f570caeabcfb"
            }
        },
        {
            "cell_type": "code",
            "source": [
                "-- Format Numbers\n",
                "Select FORMAT(10000.0000, 'N', 'en-us') AS 'Number Format'  , FORMAT(10000.0000, 'G', 'en-us') AS 'General Format' , FORMAT(10000.0000, 'C', 'en-us') AS 'Currency Format' UNION ALL -- USA\n",
                "Select FORMAT(10000.0000, 'N', 'de-de') AS 'Number Format'  , FORMAT(10000.0000, 'G', 'de-de') AS 'General Format' , FORMAT(10000.0000, 'C', 'de-de') AS 'Currency Format' UNION ALL -- German\n",
                "Select FORMAT(10000.0000, 'N', 'zh-cn') AS 'Number Format'  , FORMAT(10000.0000, 'G', 'zh-cn') AS 'General Format' , FORMAT(10000.0000, 'C', 'zh-cn') AS 'Currency Format'; -- China\n",
                "Select FORMAT(123456789,'###-##-####') as Custom Union ALL -- Fake SSN\n",
                "Select FORMAT(1234567890,'(###) ###-####') as Custom; -- Fake US phone"
            ],
            "metadata": {
                "azdata_cell_guid": "db7bb44d-fdda-4283-978a-edbc5809a15e",
                "language": "sql",
                "tags": [
                    "hide_input"
                ]
            },
            "outputs": [],
            "execution_count": null
        },
        {
            "cell_type": "markdown",
            "source": [
                "**Window function syntax** - [**Back to Index**](#index)[]()  <a id='sqlwindow'></a><br> \n",
                "https://www.sqltutorial.org/sql-window-functions/<br>\n",
                "Sample: https://www.red-gate.com/simple-talk/databases/sql-server/t-sql-programming-sql-server/introduction-to-t-sql-window-functions/\n",
                "\n",
                "Performs a calculation **over** a set of rows. Rows that are being returned and having one last chance to perform a calculation.<br>\n",
                "```\n",
                "window_function_name ( expression ) OVER (\n",
                "    partition_clause\n",
                "    order_clause\n",
                "    frame_clause\n",
                ")\n",
                "```\n",
                "| Value window | Description                                                                                 | Ranking window| Description                                                             | Aggregate window |\n",
                "| ---------------------- | ------------------------------------------------------------------------------------------- | ------------------------ | ----------------------------------------------------------------------- | -------------------------- |\n",
                "| FIRST\\_VALUE()         | Returns the first value in an ordered set of values.                                        | CUME\\_DIST()             | Calculates the cumulative distribution of value within a set of values. | AVG()                      |\n",
                "| LAG()                  | Provides access to a row at a specified physical offset which comes before the current row. | DENSE\\_RANK()            | Assigns ranks to rows in partitions with no gaps in the ranking values. | COUNT()                    |\n",
                "| LAST\\_VALUE()          | Returns the last value in an ordered set of values.                                         | NTILE()                  | Break a result set into a specified number of buckets.                  | MAX()                      |\n",
                "| LEAD()                 | Provides access to a row at a specified physical offset which follows the current row.      | PERCENT\\_RANK()          | Calculate the percentile rankings of rows in a result set.              | MIN()                      |\n",
                "|                        |                                                                                             | RANK()                   | Find the rank of each row in the result set.                            | SUM()                      |\n",
                "|                        |                                                                                             | ROW_NUMBER()                   | Assign a sequential number to each row in a query result set.     |                       |\n",
                "\n",
                "![sql-window-functions.png](attachment:sql-window-functions.png)\n",
                "\n",
                "| **Normal Aggregate**                               | **Window Function**                                       |\n",
                "| ---------------------------------------------- | ----------------------------------------------------- |\n",
                "| **SELECT SUM**(salary) sum\\_salary **FROM** employees;| **SELECT SUM**(salary) **OVER()** sum\\_salary **FROM** employees; |\n",
                "| **Output**                                         | **Output**                                                |\n",
                "| **1 Row** with total sum of salary                 | **Many Rows** Grand total of all the salaries in a column for each row in the table            |\n",
                "\n",
                "\n",
                ""
            ],
            "metadata": {
                "azdata_cell_guid": "b8a55b56-30c2-4a69-84a4-fd709b074fc9"
            },
            "attachments": {
                "sql-window-functions.png": {
                    "image/png": "[encoded data removed]"
                }
            }
        },
        {
            "cell_type": "code",
            "source": [
                "-- Window Function\r\n",
                "-- Setup Memory Tables\r\n",
                "CREATE TABLE #Duplicates(Col1 INT, Col2 CHAR(1));\r\n",
                "INSERT INTO #Duplicates(Col1, Col2) \r\n",
                "VALUES(1,'A'),(2,'B'),(2,'B'),(2,'B'),\r\n",
                "\t(3,'C'),(4,'D'),(4,'D'),(5,'E'),\r\n",
                "\t(5,'E'),(5,'E');\r\n",
                "CREATE TABLE #MonthlyTempsStl(MName varchar(15), AvgHighTempF INT, \r\n",
                "     AvgHighTempC INT)\r\n",
                "INSERT INTO #MonthlyTempsStl(MName, AvgHighTempF, AvgHighTempC)\r\n",
                "VALUES('Jan',40,4),('Feb',45, 7),('Mar',56, 13),('Apr',67, 20),\r\n",
                "\t  ('May',76,25),('Jun',85,30),('Jul',89,32),('Aug',88,31),\r\n",
                "\t  ('Sep',80,27),('Oct',69,20),('Nov',56,13),('Dec',43,6);\r\n",
                "-- End Setup of memory tables \r\n",
                "\r\n",
                "--Adding ROW_NUMBER and partitioning by each column will restart the row numbers for each unique set of rows. \r\n",
                "SELECT Col1, Col2, \r\n",
                "   ROW_NUMBER() OVER(PARTITION BY Col1, Col2 ORDER BY Col1) AS RowNum\r\n",
                "FROM #Duplicates;\r\n",
                "\r\n",
                "--Deleting Duplicates when records don't contain a key row identifier\r\n",
                "WITH Dupes AS (\r\n",
                "   SELECT Col1, Col2, \r\n",
                "     ROW_NUMBER() OVER(PARTITION BY Col1, Col2 ORDER BY Col1) AS RowNum\r\n",
                "   FROM #Duplicates)\r\n",
                "DELETE Dupes \r\n",
                "WHERE RowNum <> 1;\r\n",
                "SELECT * FROM #Duplicates; -- See no more duplicates\r\n",
                "\r\n",
                "-- Here is an example using the average high temperature in St. Louis for each month. Note that the ranks were determined by the Fahrenheit temperature.\r\n",
                "SELECT MName, AvgHighTempF,AvgHighTempC, \r\n",
                "   RANK() OVER(ORDER BY AvgHighTempF) AS Rank,\r\n",
                "   PERCENT_RANK() OVER(ORDER BY AvgHighTempF)  AS PercentRank,\r\n",
                "   CUME_DIST() OVER(ORDER BY AvgHighTempF)  AS CumeDist\r\n",
                "FROM #MonthlyTempsStl;\r\n",
                "\r\n",
                "SELECT MName, AvgHighTempF,AvgHighTempC,\r\n",
                "   RANK() OVER(ORDER BY AvgHighTempF) AS Rank,\r\n",
                "   PERCENTILE_CONT(0.5) WITHIN GROUP(ORDER BY AvgHighTempF) \r\n",
                "      OVER() AS PercentileCont,\r\n",
                "   PERCENTILE_DISC(0.5) WITHIN GROUP(ORDER BY AvgHighTempF) \r\n",
                "      OVER() AS PercentileDisc\r\n",
                "FROM #MonthlyTempsStl;\r\n",
                "\r\n",
                "DROP Table #Duplicates;\r\n",
                "DROP Table #MonthlyTempsStl;"
            ],
            "metadata": {
                "azdata_cell_guid": "589b494a-96fb-4233-aff9-f7b1fb9ba64b",
                "language": "sql",
                "tags": [
                    "hide_input"
                ]
            },
            "outputs": [],
            "execution_count": null
        }
    ]
}
