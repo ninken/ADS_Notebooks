{
    "metadata": {
        "kernelspec": {
            "name": "SQL",
            "display_name": "SQL",
            "language": "sql"
        },
        "language_info": {
            "name": "sql",
            "version": ""
        }
    },
    "nbformat_minor": 2,
    "nbformat": 4,
    "cells": [
        {
            "cell_type": "code",
            "source": [
                "-- Reduce text output\r\n",
                "SET NOCOUNT ON;"
            ],
            "metadata": {
                "azdata_cell_guid": "24209377-3101-4010-a44a-6b0386a87ceb",
                "language": "sql"
            },
            "outputs": [],
            "execution_count": null
        },
        {
            "cell_type": "markdown",
            "source": [
                "**Custom Table Value Function - Inline delimited Spliter.**  \n",
                "[https://www.sqlservercentral.com/articles/tally-oh-an-improved-sql-8k-%E2%80%9Ccsv-splitter%E2%80%9D-function](https://www.sqlservercentral.com/articles/tally-oh-an-improved-sql-8k-%E2%80%9Ccsv-splitter%E2%80%9D-function)"
            ],
            "metadata": {
                "azdata_cell_guid": "987284e4-c054-490d-90de-3f6ece57aaa0"
            },
            "attachments": {}
        },
        {
            "cell_type": "code",
            "source": [
                "CREATE FUNCTION [dbo].[fn_DelimitedSplit8K]\r\n",
                "--===== Define I/O parameters\r\n",
                "        (@pString VARCHAR(8000), @pDelimiter CHAR(1))\r\n",
                "-- WARNING!!! DONOT USE MAX DATA-TYPES HERE!  IT WILL KILL PERFORMANCE!\r\n",
                "RETURNS TABLE WITH SCHEMABINDING AS\r\n",
                " RETURN\r\n",
                "--===== \"Inline\" CTE Driven \"Tally Table\" produces values from 1 up to 10,000...\r\n",
                "  WITH E1(N) AS (\r\n",
                "                 SELECT 1 UNION ALL SELECT 1 UNION ALL SELECT 1 UNION ALL\r\n",
                "                 SELECT 1 UNION ALL SELECT 1 UNION ALL SELECT 1 UNION ALL\r\n",
                "                 SELECT 1 UNION ALL SELECT 1 UNION ALL SELECT 1 UNION ALL SELECT 1\r\n",
                "                ),                          --10E+1 or 10 rows\r\n",
                "       E2(N) AS (SELECT 1 FROM E1 a, E1 b), --10E+2 or 100 rows\r\n",
                "       E4(N) AS (SELECT 1 FROM E2 a, E2 b), --10E+4 or 10,000 rows max\r\n",
                " cteTally(N) AS (--==== This provides the \"base\" CTE and limits the number of rows right up front\r\n",
                "                     -- for both a performance gain and prevention of accidental \"overruns\"\r\n",
                "                 SELECT TOP (ISNULL(DATALENGTH(@pString),0)) ROW_NUMBER() OVER (ORDER BY (SELECT NULL)) FROM E4\r\n",
                "                ),\r\n",
                "cteStart(N1) AS (--==== This returns N+1 (starting position of each \"element\" just once for each delimiter)\r\n",
                "                 SELECT 1 UNION ALL\r\n",
                "                 SELECT t.N+1 FROM cteTally t WHERE SUBSTRING(@pString,t.N,1) = @pDelimiter\r\n",
                "                ),\r\n",
                "cteLen(N1,L1) AS(--==== Return start and length (for use in substring)\r\n",
                "                 SELECT s.N1,\r\n",
                "                        ISNULL(NULLIF(CHARINDEX(@pDelimiter,@pString,s.N1),0)-s.N1,8000)\r\n",
                "                   FROM cteStart s\r\n",
                "                )\r\n",
                "--===== Do the actual split. The ISNULL/NULLIF combo handles the length for the final element when no delimiter is found.\r\n",
                " SELECT ItemNumber = ROW_NUMBER() OVER(ORDER BY l.N1),\r\n",
                "        Item       = SUBSTRING(@pString, l.N1, l.L1)\r\n",
                "   FROM cteLen l\r\n",
                ";"
            ],
            "metadata": {
                "azdata_cell_guid": "b0ca6760-675a-4e06-915f-13a20ed5edff",
                "language": "sql"
            },
            "outputs": [],
            "execution_count": null
        },
        {
            "cell_type": "code",
            "source": [
                "-- Example using fn_DelimtedSplit\r\n",
                "IF OBJECT_ID('tempdb..#Demo') IS NOT NULL DROP TABLE #Demo;\r\n",
                "-- Add Values to demo\r\n",
                "SELECT * INTO #Demo FROM (SELECT 1, 'This,is,a,demo.') as D (ID, CsvValue);\r\n",
                "-- Split with cross apply\r\n",
                "SELECT Demo.ID, Demo.CsvValue, split.ItemNumber, Item = split.Item\r\n",
                "FROM #Demo as Demo CROSS APPLY dbo.fn_DelimitedSplit8k(Demo.CsvValue,',') split"
            ],
            "metadata": {
                "azdata_cell_guid": "3a31f1a0-fb69-45d0-a3b7-f2d41e32a1d0",
                "language": "sql"
            },
            "outputs": [
                {
                    "output_type": "display_data",
                    "data": {
                        "text/html": "Commands completed successfully."
                    },
                    "metadata": {}
                },
                {
                    "output_type": "display_data",
                    "data": {
                        "text/html": "Total execution time: 00:00:00.011"
                    },
                    "metadata": {}
                },
                {
                    "output_type": "execute_result",
                    "execution_count": 4,
                    "data": {
                        "application/vnd.dataresource+json": {
                            "schema": {
                                "fields": [
                                    {
                                        "name": "ID"
                                    },
                                    {
                                        "name": "CsvValue"
                                    },
                                    {
                                        "name": "ItemNumber"
                                    },
                                    {
                                        "name": "Item"
                                    }
                                ]
                            },
                            "data": [
                                {
                                    "0": "1",
                                    "1": "This,is,a,demo.",
                                    "2": "1",
                                    "3": "This"
                                },
                                {
                                    "0": "1",
                                    "1": "This,is,a,demo.",
                                    "2": "2",
                                    "3": "is"
                                },
                                {
                                    "0": "1",
                                    "1": "This,is,a,demo.",
                                    "2": "3",
                                    "3": "a"
                                },
                                {
                                    "0": "1",
                                    "1": "This,is,a,demo.",
                                    "2": "4",
                                    "3": "demo."
                                }
                            ]
                        },
                        "text/html": "<table><tr><th>ID</th><th>CsvValue</th><th>ItemNumber</th><th>Item</th></tr><tr><td>1</td><td>This,is,a,demo.</td><td>1</td><td>This</td></tr><tr><td>1</td><td>This,is,a,demo.</td><td>2</td><td>is</td></tr><tr><td>1</td><td>This,is,a,demo.</td><td>3</td><td>a</td></tr><tr><td>1</td><td>This,is,a,demo.</td><td>4</td><td>demo.</td></tr></table>"
                    },
                    "metadata": {}
                }
            ],
            "execution_count": 4
        },
        {
            "cell_type": "markdown",
            "source": [
                "**Custom Table Value Function -** **Split.**  \n",
                "[https://qa.social.msdn.microsoft.com/Forums/sqlserver/en-US/0e536e2f-c3a1-471a-994e-50b8dea972f5/delimited-string-to-separate-rows?forum=transactsql](https://qa.social.msdn.microsoft.com/Forums/sqlserver/en-US/0e536e2f-c3a1-471a-994e-50b8dea972f5/delimited-string-to-separate-rows?forum=transactsql)"
            ],
            "metadata": {
                "azdata_cell_guid": "ed6a8a1c-bbc1-4886-8611-fc5eebf188ec"
            },
            "attachments": {}
        },
        {
            "cell_type": "code",
            "source": [
                "CREATE FUNCTION [dbo].[fn_DoSplit](\r\n",
                "    @sInputList VARCHAR(8000) -- List of delimited items\r\n",
                "  , @sDelimiter VARCHAR(8000) = ',' -- delimiter that separates items\r\n",
                ") RETURNS @List TABLE (item VARCHAR(8000))\r\n",
                "BEGIN\r\n",
                "DECLARE @sItem VARCHAR(8000)\r\n",
                "WHILE CHARINDEX(@sDelimiter,@sInputList,0) <> 0\r\n",
                " BEGIN\r\n",
                " SELECT\r\n",
                "  @sItem=RTRIM(LTRIM(SUBSTRING(@sInputList,1,CHARINDEX(@sDelimiter,@sInputList,0)-1))),\r\n",
                "  @sInputList=RTRIM(LTRIM(SUBSTRING(@sInputList,CHARINDEX(@sDelimiter,@sInputList,0)+LEN(@sDelimiter),LEN(@sInputList))))\r\n",
                "\r\n",
                " IF LEN(@sItem) > 0\r\n",
                "  INSERT INTO @List SELECT @sItem\r\n",
                " END\r\n",
                "\r\n",
                "IF LEN(@sInputList) > 0\r\n",
                " INSERT INTO @List SELECT @sInputList -- Put the last item in\r\n",
                "RETURN\r\n",
                "END\r\n",
                "GO"
            ],
            "metadata": {
                "azdata_cell_guid": "0808e2a6-65bf-4219-a00c-e050b95575d3",
                "language": "sql"
            },
            "outputs": [],
            "execution_count": null
        },
        {
            "cell_type": "code",
            "source": [
                "-- Example using fn_DoSplit\r\n",
                "SELECT item from fn_DoSplit('One|Two|Three', '|')"
            ],
            "metadata": {
                "azdata_cell_guid": "1b3781c1-f566-40a5-a1f2-09122d6370f3",
                "language": "sql"
            },
            "outputs": [
                {
                    "output_type": "display_data",
                    "data": {
                        "text/html": "Commands completed successfully."
                    },
                    "metadata": {}
                },
                {
                    "output_type": "display_data",
                    "data": {
                        "text/html": "Total execution time: 00:00:00.004"
                    },
                    "metadata": {}
                },
                {
                    "output_type": "execute_result",
                    "execution_count": 5,
                    "data": {
                        "application/vnd.dataresource+json": {
                            "schema": {
                                "fields": [
                                    {
                                        "name": "item"
                                    }
                                ]
                            },
                            "data": [
                                {
                                    "0": "One"
                                },
                                {
                                    "0": "Two"
                                },
                                {
                                    "0": "Three"
                                }
                            ]
                        },
                        "text/html": "<table><tr><th>item</th></tr><tr><td>One</td></tr><tr><td>Two</td></tr><tr><td>Three</td></tr></table>"
                    },
                    "metadata": {}
                }
            ],
            "execution_count": 5
        },
        {
            "cell_type": "markdown",
            "source": [
                "**Custom Scalar-valued Function -** Remove alpha chars from field"
            ],
            "metadata": {
                "azdata_cell_guid": "645a1e1d-89ab-4dbf-a6b0-99226a58f678"
            },
            "attachments": {}
        },
        {
            "cell_type": "code",
            "source": [
                "CREATE FUNCTION [dbo].[fn_AlphaCharRemove](@Temp VARCHAR(1000))\r\n",
                "RETURNS VARCHAR(1000)\r\n",
                "AS\r\n",
                "BEGIN\r\n",
                "    DECLARE @KeepValues AS VARCHAR(50)\r\n",
                "    SET @KeepValues = '%[^0-9]%'\r\n",
                "    WHILE PATINDEX(@KeepValues, @Temp) > 0\r\n",
                "        SET @Temp = STUFF(@Temp, PATINDEX(@KeepValues, @Temp), 1, '')\r\n",
                "    RETURN @Temp\r\n",
                "END\r\n",
                "GO"
            ],
            "metadata": {
                "azdata_cell_guid": "33bb6bde-0a55-4ceb-b924-1d22787948b6",
                "language": "sql"
            },
            "outputs": [],
            "execution_count": null
        },
        {
            "cell_type": "code",
            "source": [
                "-- Example using fn_AlphaCharRemove\r\n",
                "Select [dbo].[fn_AlphaCharRemove]('1234?') as FixedNumber"
            ],
            "metadata": {
                "azdata_cell_guid": "aa7e71ea-83ba-46f4-af2b-996dea481cfa",
                "tags": [],
                "language": "sql"
            },
            "outputs": [
                {
                    "output_type": "display_data",
                    "data": {
                        "text/html": "Commands completed successfully."
                    },
                    "metadata": {}
                },
                {
                    "output_type": "display_data",
                    "data": {
                        "text/html": "Total execution time: 00:00:00.002"
                    },
                    "metadata": {}
                },
                {
                    "output_type": "execute_result",
                    "execution_count": 14,
                    "data": {
                        "application/vnd.dataresource+json": {
                            "schema": {
                                "fields": [
                                    {
                                        "name": "FixedNumber"
                                    }
                                ]
                            },
                            "data": [
                                {
                                    "0": "1234"
                                }
                            ]
                        },
                        "text/html": "<table><tr><th>FixedNumber</th></tr><tr><td>1234</td></tr></table>"
                    },
                    "metadata": {}
                }
            ],
            "execution_count": 14
        },
        {
            "cell_type": "markdown",
            "source": [
                "**Custom Scalar-valued Function -** Make text string proper case\n",
                "\n",
                "[https://www.sqlservercentral.com/blogs/sql-server-tsql-to-convert-string-in-proper-format](https://www.sqlservercentral.com/blogs/sql-server-tsql-to-convert-string-in-proper-format)"
            ],
            "metadata": {
                "azdata_cell_guid": "c2475572-a8e5-402b-8d5a-75e2f83a0908"
            },
            "attachments": {}
        },
        {
            "cell_type": "code",
            "source": [
                "CREATE FUNCTION [dbo].[fn_Proper]\r\n",
                "(\r\n",
                "  @StrToConvertToProper AS VARCHAR(MAX)\r\n",
                ") \r\n",
                "RETURNS VARCHAR(MAX) \r\n",
                "AS\r\n",
                "BEGIN\r\n",
                "  --Trim the Text\r\n",
                "  SET @StrToConvertToProper = LTRIM(RTRIM(@StrToConvertToProper))\r\n",
                " \r\n",
                "  --Find the No. of Words in the Text\r\n",
                "  DECLARE @WordCount AS INT\r\n",
                "  SET @WordCount = LEN(@StrToConvertToProper) - LEN(REPLACE(@StrToConvertToProper,' ','')) + 1\r\n",
                " \r\n",
                "  --Variable to track the space position\r\n",
                "  DECLARE @LastSpacePosition AS INT = 0\r\n",
                " \r\n",
                "  --Loop through all the words\r\n",
                "  WHILE(@WordCount > 0)\r\n",
                "    BEGIN\r\n",
                "      --Set the Space Position\r\n",
                "      SET @LastSpacePosition = CHARINDEX(' ',@StrToConvertToProper,@LastSpacePosition + 1)\r\n",
                "      \r\n",
                "      --Replace the Character\r\n",
                "      SET @StrToConvertToProper = STUFF(@StrToConvertToProper,\r\n",
                "                                        @LastSpacePosition + 1,\r\n",
                "                                        1,\r\n",
                "                                        UPPER(SUBSTRING(@StrToConvertToProper, @LastSpacePosition + 1, 1)))\r\n",
                "      --Decrement the Loop counter                                      \r\n",
                "      SET @WordCount = @WordCount - 1\r\n",
                "    END\r\n",
                "    \r\n",
                "  RETURN @StrToConvertToProper\r\n",
                "END  "
            ],
            "metadata": {
                "azdata_cell_guid": "ad5c3ea6-1d82-4cfe-92cf-a6e06eb9968f",
                "language": "sql"
            },
            "outputs": [],
            "execution_count": null
        },
        {
            "cell_type": "code",
            "source": [
                "SELECT dbo.fn_Proper('hello, how are you?') as [Proper];"
            ],
            "metadata": {
                "language": "sql",
                "azdata_cell_guid": "178dfa58-a3fc-4887-be6a-64e863fd32e7",
                "tags": []
            },
            "outputs": [
                {
                    "output_type": "display_data",
                    "data": {
                        "text/html": "(1 row affected)"
                    },
                    "metadata": {}
                },
                {
                    "output_type": "display_data",
                    "data": {
                        "text/html": "Total execution time: 00:00:00.003"
                    },
                    "metadata": {}
                },
                {
                    "output_type": "execute_result",
                    "metadata": {},
                    "execution_count": 5,
                    "data": {
                        "application/vnd.dataresource+json": {
                            "schema": {
                                "fields": [
                                    {
                                        "name": "Proper"
                                    }
                                ]
                            },
                            "data": [
                                {
                                    "0": "Hello, How Are You?"
                                }
                            ]
                        },
                        "text/html": [
                            "<table>",
                            "<tr><th>Proper</th></tr>",
                            "<tr><td>Hello, How Are You?</td></tr>",
                            "</table>"
                        ]
                    }
                }
            ],
            "execution_count": 5
        }
    ]
}